{
  "nbformat": 4,
  "nbformat_minor": 0,
  "metadata": {
    "colab": {
      "provenance": [],
      "collapsed_sections": [
        "ldCPpkswfNq9"
      ],
      "authorship_tag": "ABX9TyPJCdixoR2Mhkr27glCyLEp",
      "include_colab_link": true
    },
    "kernelspec": {
      "name": "python3",
      "display_name": "Python 3"
    },
    "language_info": {
      "name": "python"
    },
    "widgets": {
      "application/vnd.jupyter.widget-state+json": {
        "5560c41f2bd74a24b2e48de34d91d563": {
          "model_module": "@jupyter-widgets/controls",
          "model_name": "GridBoxModel",
          "model_module_version": "1.5.0",
          "state": {
            "_dom_classes": [],
            "_model_module": "@jupyter-widgets/controls",
            "_model_module_version": "1.5.0",
            "_model_name": "GridBoxModel",
            "_view_count": null,
            "_view_module": "@jupyter-widgets/controls",
            "_view_module_version": "1.5.0",
            "_view_name": "GridBoxView",
            "box_style": "",
            "children": [
              "IPY_MODEL_47aac928712349e0a90a0d1b1f3bf741",
              "IPY_MODEL_f1623f4a588043d68e013f5bfcbe7b7f",
              "IPY_MODEL_9b4ed912ca1a4a1c9e65ed2e38509a44",
              "IPY_MODEL_691a0df812784ba1960a4f5fbe295915",
              "IPY_MODEL_e4799f2b05964d078cdfd64bcc43d13b",
              "IPY_MODEL_a30a190071c64cec8433b9957336e573",
              "IPY_MODEL_50e44a1a5d4e4cb8996dd57b0c135b47",
              "IPY_MODEL_3647c2290afb40f9863b04a273664d94",
              "IPY_MODEL_9064ae317f9a40b7921e2f8e7962d8b9",
              "IPY_MODEL_03d00b7879b049e7a92d9a4e08fa1e5c",
              "IPY_MODEL_52593d41528c4def89dcddb8e26a8e6a",
              "IPY_MODEL_5670228f7c654efc880461ce27d7eb68",
              "IPY_MODEL_e5866549760e4ca58ff8b09c83d3e4c7",
              "IPY_MODEL_5eb7a4f0be184ca38463d21a9a9ce299",
              "IPY_MODEL_9a2af0688218447fbb40c9470846bad9",
              "IPY_MODEL_aabc9bee3d5c4e5c9cad2b9ce13be43f",
              "IPY_MODEL_6841a4d4b24b4f378f145dba711bbaf9",
              "IPY_MODEL_83930b7b9f5d455fa0ff2916ae47a090",
              "IPY_MODEL_bc6f2f3418364cfba515992c145c7702",
              "IPY_MODEL_195d8f0c592041499116f9108a3560e8"
            ],
            "layout": "IPY_MODEL_088ad6b111874b52ad0de00de593911d"
          }
        },
        "47aac928712349e0a90a0d1b1f3bf741": {
          "model_module": "@jupyter-widgets/controls",
          "model_name": "ButtonModel",
          "model_module_version": "1.5.0",
          "state": {
            "_dom_classes": [],
            "_model_module": "@jupyter-widgets/controls",
            "_model_module_version": "1.5.0",
            "_model_name": "ButtonModel",
            "_view_count": null,
            "_view_module": "@jupyter-widgets/controls",
            "_view_module_version": "1.5.0",
            "_view_name": "ButtonView",
            "button_style": "",
            "description": "1",
            "disabled": false,
            "icon": "",
            "layout": "IPY_MODEL_ca58252f11444e268408e087387600ac",
            "style": "IPY_MODEL_62cfdda95eac48cf952c486414750543",
            "tooltip": ""
          }
        },
        "f1623f4a588043d68e013f5bfcbe7b7f": {
          "model_module": "@jupyter-widgets/controls",
          "model_name": "ButtonModel",
          "model_module_version": "1.5.0",
          "state": {
            "_dom_classes": [],
            "_model_module": "@jupyter-widgets/controls",
            "_model_module_version": "1.5.0",
            "_model_name": "ButtonModel",
            "_view_count": null,
            "_view_module": "@jupyter-widgets/controls",
            "_view_module_version": "1.5.0",
            "_view_name": "ButtonView",
            "button_style": "",
            "description": "2",
            "disabled": false,
            "icon": "",
            "layout": "IPY_MODEL_6e14a3f920114869bdbc1633f70f684d",
            "style": "IPY_MODEL_34c7597c09504adaa74df0ab62b51e68",
            "tooltip": ""
          }
        },
        "9b4ed912ca1a4a1c9e65ed2e38509a44": {
          "model_module": "@jupyter-widgets/controls",
          "model_name": "ButtonModel",
          "model_module_version": "1.5.0",
          "state": {
            "_dom_classes": [],
            "_model_module": "@jupyter-widgets/controls",
            "_model_module_version": "1.5.0",
            "_model_name": "ButtonModel",
            "_view_count": null,
            "_view_module": "@jupyter-widgets/controls",
            "_view_module_version": "1.5.0",
            "_view_name": "ButtonView",
            "button_style": "",
            "description": "3",
            "disabled": false,
            "icon": "",
            "layout": "IPY_MODEL_12cc00df312c479a86ed3d9d00516f3e",
            "style": "IPY_MODEL_c596d1a63bbf4b64bb4bdf604df0418e",
            "tooltip": ""
          }
        },
        "691a0df812784ba1960a4f5fbe295915": {
          "model_module": "@jupyter-widgets/controls",
          "model_name": "ButtonModel",
          "model_module_version": "1.5.0",
          "state": {
            "_dom_classes": [],
            "_model_module": "@jupyter-widgets/controls",
            "_model_module_version": "1.5.0",
            "_model_name": "ButtonModel",
            "_view_count": null,
            "_view_module": "@jupyter-widgets/controls",
            "_view_module_version": "1.5.0",
            "_view_name": "ButtonView",
            "button_style": "",
            "description": "4",
            "disabled": false,
            "icon": "",
            "layout": "IPY_MODEL_6e291573be2c436593c73c873284bf45",
            "style": "IPY_MODEL_708b6cea59ee4e998011b62ebb536c4e",
            "tooltip": ""
          }
        },
        "e4799f2b05964d078cdfd64bcc43d13b": {
          "model_module": "@jupyter-widgets/controls",
          "model_name": "ButtonModel",
          "model_module_version": "1.5.0",
          "state": {
            "_dom_classes": [],
            "_model_module": "@jupyter-widgets/controls",
            "_model_module_version": "1.5.0",
            "_model_name": "ButtonModel",
            "_view_count": null,
            "_view_module": "@jupyter-widgets/controls",
            "_view_module_version": "1.5.0",
            "_view_name": "ButtonView",
            "button_style": "",
            "description": "5",
            "disabled": false,
            "icon": "",
            "layout": "IPY_MODEL_35b5d7a1e25b425b80893912264d7d2c",
            "style": "IPY_MODEL_c9c586edf13640139c405b43dfc8dc21",
            "tooltip": ""
          }
        },
        "a30a190071c64cec8433b9957336e573": {
          "model_module": "@jupyter-widgets/controls",
          "model_name": "ButtonModel",
          "model_module_version": "1.5.0",
          "state": {
            "_dom_classes": [],
            "_model_module": "@jupyter-widgets/controls",
            "_model_module_version": "1.5.0",
            "_model_name": "ButtonModel",
            "_view_count": null,
            "_view_module": "@jupyter-widgets/controls",
            "_view_module_version": "1.5.0",
            "_view_name": "ButtonView",
            "button_style": "",
            "description": "6",
            "disabled": false,
            "icon": "",
            "layout": "IPY_MODEL_f99fb503d55042ac8fdc5f8493cd0367",
            "style": "IPY_MODEL_cc14ccc987d54f59aefcf199a1656168",
            "tooltip": ""
          }
        },
        "50e44a1a5d4e4cb8996dd57b0c135b47": {
          "model_module": "@jupyter-widgets/controls",
          "model_name": "ButtonModel",
          "model_module_version": "1.5.0",
          "state": {
            "_dom_classes": [],
            "_model_module": "@jupyter-widgets/controls",
            "_model_module_version": "1.5.0",
            "_model_name": "ButtonModel",
            "_view_count": null,
            "_view_module": "@jupyter-widgets/controls",
            "_view_module_version": "1.5.0",
            "_view_name": "ButtonView",
            "button_style": "",
            "description": "7",
            "disabled": false,
            "icon": "",
            "layout": "IPY_MODEL_7a2e282325a640f782dd42d5c2745016",
            "style": "IPY_MODEL_7b5e000f4e3a4b019de4e4e8ec7c6833",
            "tooltip": ""
          }
        },
        "3647c2290afb40f9863b04a273664d94": {
          "model_module": "@jupyter-widgets/controls",
          "model_name": "ButtonModel",
          "model_module_version": "1.5.0",
          "state": {
            "_dom_classes": [],
            "_model_module": "@jupyter-widgets/controls",
            "_model_module_version": "1.5.0",
            "_model_name": "ButtonModel",
            "_view_count": null,
            "_view_module": "@jupyter-widgets/controls",
            "_view_module_version": "1.5.0",
            "_view_name": "ButtonView",
            "button_style": "",
            "description": "8",
            "disabled": false,
            "icon": "",
            "layout": "IPY_MODEL_52929e6f4cb946d8a40b271c2412ee36",
            "style": "IPY_MODEL_5561b8fa3a7c4dea9ee85238a0794a18",
            "tooltip": ""
          }
        },
        "9064ae317f9a40b7921e2f8e7962d8b9": {
          "model_module": "@jupyter-widgets/controls",
          "model_name": "ButtonModel",
          "model_module_version": "1.5.0",
          "state": {
            "_dom_classes": [],
            "_model_module": "@jupyter-widgets/controls",
            "_model_module_version": "1.5.0",
            "_model_name": "ButtonModel",
            "_view_count": null,
            "_view_module": "@jupyter-widgets/controls",
            "_view_module_version": "1.5.0",
            "_view_name": "ButtonView",
            "button_style": "",
            "description": "9",
            "disabled": false,
            "icon": "",
            "layout": "IPY_MODEL_8d8a50fc01504834a88a545ac67335cc",
            "style": "IPY_MODEL_dcebfc5cbb684b2f96939f5eefbab260",
            "tooltip": ""
          }
        },
        "03d00b7879b049e7a92d9a4e08fa1e5c": {
          "model_module": "@jupyter-widgets/controls",
          "model_name": "ButtonModel",
          "model_module_version": "1.5.0",
          "state": {
            "_dom_classes": [],
            "_model_module": "@jupyter-widgets/controls",
            "_model_module_version": "1.5.0",
            "_model_name": "ButtonModel",
            "_view_count": null,
            "_view_module": "@jupyter-widgets/controls",
            "_view_module_version": "1.5.0",
            "_view_name": "ButtonView",
            "button_style": "",
            "description": "0",
            "disabled": false,
            "icon": "",
            "layout": "IPY_MODEL_c63fb95d2aa14241a9a4085e398d3e43",
            "style": "IPY_MODEL_80645e46334b4fdcaad0791c70f507a1",
            "tooltip": ""
          }
        },
        "52593d41528c4def89dcddb8e26a8e6a": {
          "model_module": "@jupyter-widgets/controls",
          "model_name": "ButtonModel",
          "model_module_version": "1.5.0",
          "state": {
            "_dom_classes": [],
            "_model_module": "@jupyter-widgets/controls",
            "_model_module_version": "1.5.0",
            "_model_name": "ButtonModel",
            "_view_count": null,
            "_view_module": "@jupyter-widgets/controls",
            "_view_module_version": "1.5.0",
            "_view_name": "ButtonView",
            "button_style": "",
            "description": ".",
            "disabled": false,
            "icon": "",
            "layout": "IPY_MODEL_f3616b169d7b47f88cd8e4f8b49a215e",
            "style": "IPY_MODEL_2737d35fa8d848d1aa243d6a792b0948",
            "tooltip": ""
          }
        },
        "5670228f7c654efc880461ce27d7eb68": {
          "model_module": "@jupyter-widgets/controls",
          "model_name": "ButtonModel",
          "model_module_version": "1.5.0",
          "state": {
            "_dom_classes": [],
            "_model_module": "@jupyter-widgets/controls",
            "_model_module_version": "1.5.0",
            "_model_name": "ButtonModel",
            "_view_count": null,
            "_view_module": "@jupyter-widgets/controls",
            "_view_module_version": "1.5.0",
            "_view_name": "ButtonView",
            "button_style": "",
            "description": "=",
            "disabled": false,
            "icon": "",
            "layout": "IPY_MODEL_066acbd7e7914706ad512857540b8149",
            "style": "IPY_MODEL_dbb3e0ed442d452f96180707267ff2e2",
            "tooltip": ""
          }
        },
        "e5866549760e4ca58ff8b09c83d3e4c7": {
          "model_module": "@jupyter-widgets/controls",
          "model_name": "ButtonModel",
          "model_module_version": "1.5.0",
          "state": {
            "_dom_classes": [],
            "_model_module": "@jupyter-widgets/controls",
            "_model_module_version": "1.5.0",
            "_model_name": "ButtonModel",
            "_view_count": null,
            "_view_module": "@jupyter-widgets/controls",
            "_view_module_version": "1.5.0",
            "_view_name": "ButtonView",
            "button_style": "",
            "description": "/",
            "disabled": false,
            "icon": "",
            "layout": "IPY_MODEL_c3b0216203924a49950d59f99a543887",
            "style": "IPY_MODEL_037967d5038d4a56b82812441fe50e24",
            "tooltip": ""
          }
        },
        "5eb7a4f0be184ca38463d21a9a9ce299": {
          "model_module": "@jupyter-widgets/controls",
          "model_name": "ButtonModel",
          "model_module_version": "1.5.0",
          "state": {
            "_dom_classes": [],
            "_model_module": "@jupyter-widgets/controls",
            "_model_module_version": "1.5.0",
            "_model_name": "ButtonModel",
            "_view_count": null,
            "_view_module": "@jupyter-widgets/controls",
            "_view_module_version": "1.5.0",
            "_view_name": "ButtonView",
            "button_style": "",
            "description": "*",
            "disabled": false,
            "icon": "",
            "layout": "IPY_MODEL_e50f3a02b60c47d6a5baabe0740638e8",
            "style": "IPY_MODEL_884186306d404b76aa93b1cbd660e711",
            "tooltip": ""
          }
        },
        "9a2af0688218447fbb40c9470846bad9": {
          "model_module": "@jupyter-widgets/controls",
          "model_name": "ButtonModel",
          "model_module_version": "1.5.0",
          "state": {
            "_dom_classes": [],
            "_model_module": "@jupyter-widgets/controls",
            "_model_module_version": "1.5.0",
            "_model_name": "ButtonModel",
            "_view_count": null,
            "_view_module": "@jupyter-widgets/controls",
            "_view_module_version": "1.5.0",
            "_view_name": "ButtonView",
            "button_style": "",
            "description": "-",
            "disabled": false,
            "icon": "",
            "layout": "IPY_MODEL_edc6b3ec76a74320bf8dc90825cfbfc0",
            "style": "IPY_MODEL_96fdb5797c6444c7a933f8e0f298f298",
            "tooltip": ""
          }
        },
        "aabc9bee3d5c4e5c9cad2b9ce13be43f": {
          "model_module": "@jupyter-widgets/controls",
          "model_name": "ButtonModel",
          "model_module_version": "1.5.0",
          "state": {
            "_dom_classes": [],
            "_model_module": "@jupyter-widgets/controls",
            "_model_module_version": "1.5.0",
            "_model_name": "ButtonModel",
            "_view_count": null,
            "_view_module": "@jupyter-widgets/controls",
            "_view_module_version": "1.5.0",
            "_view_name": "ButtonView",
            "button_style": "",
            "description": "+",
            "disabled": false,
            "icon": "",
            "layout": "IPY_MODEL_61547bf20b1448d7a276a555c4e2e876",
            "style": "IPY_MODEL_1af7fa9fe7584f78b59ddcfe235b7036",
            "tooltip": ""
          }
        },
        "6841a4d4b24b4f378f145dba711bbaf9": {
          "model_module": "@jupyter-widgets/controls",
          "model_name": "ButtonModel",
          "model_module_version": "1.5.0",
          "state": {
            "_dom_classes": [],
            "_model_module": "@jupyter-widgets/controls",
            "_model_module_version": "1.5.0",
            "_model_name": "ButtonModel",
            "_view_count": null,
            "_view_module": "@jupyter-widgets/controls",
            "_view_module_version": "1.5.0",
            "_view_name": "ButtonView",
            "button_style": "",
            "description": "ANSWER",
            "disabled": false,
            "icon": "",
            "layout": "IPY_MODEL_95cac6cd2625476b80b886c8b9fa72ac",
            "style": "IPY_MODEL_258661a864ef42a1a28e3f469331539e",
            "tooltip": ""
          }
        },
        "83930b7b9f5d455fa0ff2916ae47a090": {
          "model_module": "@jupyter-widgets/controls",
          "model_name": "ButtonModel",
          "model_module_version": "1.5.0",
          "state": {
            "_dom_classes": [],
            "_model_module": "@jupyter-widgets/controls",
            "_model_module_version": "1.5.0",
            "_model_name": "ButtonModel",
            "_view_count": null,
            "_view_module": "@jupyter-widgets/controls",
            "_view_module_version": "1.5.0",
            "_view_name": "ButtonView",
            "button_style": "",
            "description": "+/-",
            "disabled": false,
            "icon": "",
            "layout": "IPY_MODEL_e434040c8c56438d920a6ac3b95e2b54",
            "style": "IPY_MODEL_a5819465610f48a3b0ec58a83bfdc263",
            "tooltip": ""
          }
        },
        "bc6f2f3418364cfba515992c145c7702": {
          "model_module": "@jupyter-widgets/controls",
          "model_name": "ButtonModel",
          "model_module_version": "1.5.0",
          "state": {
            "_dom_classes": [],
            "_model_module": "@jupyter-widgets/controls",
            "_model_module_version": "1.5.0",
            "_model_name": "ButtonModel",
            "_view_count": null,
            "_view_module": "@jupyter-widgets/controls",
            "_view_module_version": "1.5.0",
            "_view_name": "ButtonView",
            "button_style": "",
            "description": "back",
            "disabled": false,
            "icon": "",
            "layout": "IPY_MODEL_76b9c9bd449a4f0c962bd3e37490b437",
            "style": "IPY_MODEL_d51407ad5a5f470f850f9a654507ca44",
            "tooltip": ""
          }
        },
        "195d8f0c592041499116f9108a3560e8": {
          "model_module": "@jupyter-widgets/controls",
          "model_name": "ButtonModel",
          "model_module_version": "1.5.0",
          "state": {
            "_dom_classes": [],
            "_model_module": "@jupyter-widgets/controls",
            "_model_module_version": "1.5.0",
            "_model_name": "ButtonModel",
            "_view_count": null,
            "_view_module": "@jupyter-widgets/controls",
            "_view_module_version": "1.5.0",
            "_view_name": "ButtonView",
            "button_style": "",
            "description": "clear",
            "disabled": false,
            "icon": "",
            "layout": "IPY_MODEL_d5ebc6463e664be0ad1532e8440c91bf",
            "style": "IPY_MODEL_f0be6663b26343a7a0e1ce09e10e068e",
            "tooltip": ""
          }
        },
        "088ad6b111874b52ad0de00de593911d": {
          "model_module": "@jupyter-widgets/base",
          "model_name": "LayoutModel",
          "model_module_version": "1.2.0",
          "state": {
            "_model_module": "@jupyter-widgets/base",
            "_model_module_version": "1.2.0",
            "_model_name": "LayoutModel",
            "_view_count": null,
            "_view_module": "@jupyter-widgets/base",
            "_view_module_version": "1.2.0",
            "_view_name": "LayoutView",
            "align_content": null,
            "align_items": null,
            "align_self": null,
            "border": null,
            "bottom": null,
            "display": null,
            "flex": null,
            "flex_flow": null,
            "grid_area": null,
            "grid_auto_columns": null,
            "grid_auto_flow": null,
            "grid_auto_rows": null,
            "grid_column": null,
            "grid_gap": null,
            "grid_row": null,
            "grid_template_areas": "\"widget001 widget002 widget003 widget013\"\n\"widget004 widget005 widget006 widget014\"\n\"widget007 widget008 widget009 widget015\"\n\"widget011 widget010 widget012 widget016\"\n\"widget018 widget017 widget019 widget020\"",
            "grid_template_columns": "repeat(4, 1fr)",
            "grid_template_rows": "repeat(5, 1fr)",
            "height": null,
            "justify_content": null,
            "justify_items": null,
            "left": null,
            "margin": null,
            "max_height": null,
            "max_width": null,
            "min_height": null,
            "min_width": null,
            "object_fit": null,
            "object_position": null,
            "order": null,
            "overflow": null,
            "overflow_x": null,
            "overflow_y": null,
            "padding": null,
            "right": null,
            "top": null,
            "visibility": null,
            "width": null
          }
        },
        "ca58252f11444e268408e087387600ac": {
          "model_module": "@jupyter-widgets/base",
          "model_name": "LayoutModel",
          "model_module_version": "1.2.0",
          "state": {
            "_model_module": "@jupyter-widgets/base",
            "_model_module_version": "1.2.0",
            "_model_name": "LayoutModel",
            "_view_count": null,
            "_view_module": "@jupyter-widgets/base",
            "_view_module_version": "1.2.0",
            "_view_name": "LayoutView",
            "align_content": null,
            "align_items": null,
            "align_self": null,
            "border": null,
            "bottom": null,
            "display": null,
            "flex": null,
            "flex_flow": null,
            "grid_area": "widget001",
            "grid_auto_columns": null,
            "grid_auto_flow": null,
            "grid_auto_rows": null,
            "grid_column": null,
            "grid_gap": null,
            "grid_row": null,
            "grid_template_areas": null,
            "grid_template_columns": null,
            "grid_template_rows": null,
            "height": "auto",
            "justify_content": null,
            "justify_items": null,
            "left": null,
            "margin": null,
            "max_height": null,
            "max_width": null,
            "min_height": null,
            "min_width": null,
            "object_fit": null,
            "object_position": null,
            "order": null,
            "overflow": null,
            "overflow_x": null,
            "overflow_y": null,
            "padding": null,
            "right": null,
            "top": null,
            "visibility": null,
            "width": "auto"
          }
        },
        "62cfdda95eac48cf952c486414750543": {
          "model_module": "@jupyter-widgets/controls",
          "model_name": "ButtonStyleModel",
          "model_module_version": "1.5.0",
          "state": {
            "_model_module": "@jupyter-widgets/controls",
            "_model_module_version": "1.5.0",
            "_model_name": "ButtonStyleModel",
            "_view_count": null,
            "_view_module": "@jupyter-widgets/base",
            "_view_module_version": "1.2.0",
            "_view_name": "StyleView",
            "button_color": null,
            "font_weight": ""
          }
        },
        "6e14a3f920114869bdbc1633f70f684d": {
          "model_module": "@jupyter-widgets/base",
          "model_name": "LayoutModel",
          "model_module_version": "1.2.0",
          "state": {
            "_model_module": "@jupyter-widgets/base",
            "_model_module_version": "1.2.0",
            "_model_name": "LayoutModel",
            "_view_count": null,
            "_view_module": "@jupyter-widgets/base",
            "_view_module_version": "1.2.0",
            "_view_name": "LayoutView",
            "align_content": null,
            "align_items": null,
            "align_self": null,
            "border": null,
            "bottom": null,
            "display": null,
            "flex": null,
            "flex_flow": null,
            "grid_area": "widget002",
            "grid_auto_columns": null,
            "grid_auto_flow": null,
            "grid_auto_rows": null,
            "grid_column": null,
            "grid_gap": null,
            "grid_row": null,
            "grid_template_areas": null,
            "grid_template_columns": null,
            "grid_template_rows": null,
            "height": "auto",
            "justify_content": null,
            "justify_items": null,
            "left": null,
            "margin": null,
            "max_height": null,
            "max_width": null,
            "min_height": null,
            "min_width": null,
            "object_fit": null,
            "object_position": null,
            "order": null,
            "overflow": null,
            "overflow_x": null,
            "overflow_y": null,
            "padding": null,
            "right": null,
            "top": null,
            "visibility": null,
            "width": "auto"
          }
        },
        "34c7597c09504adaa74df0ab62b51e68": {
          "model_module": "@jupyter-widgets/controls",
          "model_name": "ButtonStyleModel",
          "model_module_version": "1.5.0",
          "state": {
            "_model_module": "@jupyter-widgets/controls",
            "_model_module_version": "1.5.0",
            "_model_name": "ButtonStyleModel",
            "_view_count": null,
            "_view_module": "@jupyter-widgets/base",
            "_view_module_version": "1.2.0",
            "_view_name": "StyleView",
            "button_color": null,
            "font_weight": ""
          }
        },
        "12cc00df312c479a86ed3d9d00516f3e": {
          "model_module": "@jupyter-widgets/base",
          "model_name": "LayoutModel",
          "model_module_version": "1.2.0",
          "state": {
            "_model_module": "@jupyter-widgets/base",
            "_model_module_version": "1.2.0",
            "_model_name": "LayoutModel",
            "_view_count": null,
            "_view_module": "@jupyter-widgets/base",
            "_view_module_version": "1.2.0",
            "_view_name": "LayoutView",
            "align_content": null,
            "align_items": null,
            "align_self": null,
            "border": null,
            "bottom": null,
            "display": null,
            "flex": null,
            "flex_flow": null,
            "grid_area": "widget003",
            "grid_auto_columns": null,
            "grid_auto_flow": null,
            "grid_auto_rows": null,
            "grid_column": null,
            "grid_gap": null,
            "grid_row": null,
            "grid_template_areas": null,
            "grid_template_columns": null,
            "grid_template_rows": null,
            "height": "auto",
            "justify_content": null,
            "justify_items": null,
            "left": null,
            "margin": null,
            "max_height": null,
            "max_width": null,
            "min_height": null,
            "min_width": null,
            "object_fit": null,
            "object_position": null,
            "order": null,
            "overflow": null,
            "overflow_x": null,
            "overflow_y": null,
            "padding": null,
            "right": null,
            "top": null,
            "visibility": null,
            "width": "auto"
          }
        },
        "c596d1a63bbf4b64bb4bdf604df0418e": {
          "model_module": "@jupyter-widgets/controls",
          "model_name": "ButtonStyleModel",
          "model_module_version": "1.5.0",
          "state": {
            "_model_module": "@jupyter-widgets/controls",
            "_model_module_version": "1.5.0",
            "_model_name": "ButtonStyleModel",
            "_view_count": null,
            "_view_module": "@jupyter-widgets/base",
            "_view_module_version": "1.2.0",
            "_view_name": "StyleView",
            "button_color": null,
            "font_weight": ""
          }
        },
        "6e291573be2c436593c73c873284bf45": {
          "model_module": "@jupyter-widgets/base",
          "model_name": "LayoutModel",
          "model_module_version": "1.2.0",
          "state": {
            "_model_module": "@jupyter-widgets/base",
            "_model_module_version": "1.2.0",
            "_model_name": "LayoutModel",
            "_view_count": null,
            "_view_module": "@jupyter-widgets/base",
            "_view_module_version": "1.2.0",
            "_view_name": "LayoutView",
            "align_content": null,
            "align_items": null,
            "align_self": null,
            "border": null,
            "bottom": null,
            "display": null,
            "flex": null,
            "flex_flow": null,
            "grid_area": "widget004",
            "grid_auto_columns": null,
            "grid_auto_flow": null,
            "grid_auto_rows": null,
            "grid_column": null,
            "grid_gap": null,
            "grid_row": null,
            "grid_template_areas": null,
            "grid_template_columns": null,
            "grid_template_rows": null,
            "height": "auto",
            "justify_content": null,
            "justify_items": null,
            "left": null,
            "margin": null,
            "max_height": null,
            "max_width": null,
            "min_height": null,
            "min_width": null,
            "object_fit": null,
            "object_position": null,
            "order": null,
            "overflow": null,
            "overflow_x": null,
            "overflow_y": null,
            "padding": null,
            "right": null,
            "top": null,
            "visibility": null,
            "width": "auto"
          }
        },
        "708b6cea59ee4e998011b62ebb536c4e": {
          "model_module": "@jupyter-widgets/controls",
          "model_name": "ButtonStyleModel",
          "model_module_version": "1.5.0",
          "state": {
            "_model_module": "@jupyter-widgets/controls",
            "_model_module_version": "1.5.0",
            "_model_name": "ButtonStyleModel",
            "_view_count": null,
            "_view_module": "@jupyter-widgets/base",
            "_view_module_version": "1.2.0",
            "_view_name": "StyleView",
            "button_color": null,
            "font_weight": ""
          }
        },
        "35b5d7a1e25b425b80893912264d7d2c": {
          "model_module": "@jupyter-widgets/base",
          "model_name": "LayoutModel",
          "model_module_version": "1.2.0",
          "state": {
            "_model_module": "@jupyter-widgets/base",
            "_model_module_version": "1.2.0",
            "_model_name": "LayoutModel",
            "_view_count": null,
            "_view_module": "@jupyter-widgets/base",
            "_view_module_version": "1.2.0",
            "_view_name": "LayoutView",
            "align_content": null,
            "align_items": null,
            "align_self": null,
            "border": null,
            "bottom": null,
            "display": null,
            "flex": null,
            "flex_flow": null,
            "grid_area": "widget005",
            "grid_auto_columns": null,
            "grid_auto_flow": null,
            "grid_auto_rows": null,
            "grid_column": null,
            "grid_gap": null,
            "grid_row": null,
            "grid_template_areas": null,
            "grid_template_columns": null,
            "grid_template_rows": null,
            "height": "auto",
            "justify_content": null,
            "justify_items": null,
            "left": null,
            "margin": null,
            "max_height": null,
            "max_width": null,
            "min_height": null,
            "min_width": null,
            "object_fit": null,
            "object_position": null,
            "order": null,
            "overflow": null,
            "overflow_x": null,
            "overflow_y": null,
            "padding": null,
            "right": null,
            "top": null,
            "visibility": null,
            "width": "auto"
          }
        },
        "c9c586edf13640139c405b43dfc8dc21": {
          "model_module": "@jupyter-widgets/controls",
          "model_name": "ButtonStyleModel",
          "model_module_version": "1.5.0",
          "state": {
            "_model_module": "@jupyter-widgets/controls",
            "_model_module_version": "1.5.0",
            "_model_name": "ButtonStyleModel",
            "_view_count": null,
            "_view_module": "@jupyter-widgets/base",
            "_view_module_version": "1.2.0",
            "_view_name": "StyleView",
            "button_color": null,
            "font_weight": ""
          }
        },
        "f99fb503d55042ac8fdc5f8493cd0367": {
          "model_module": "@jupyter-widgets/base",
          "model_name": "LayoutModel",
          "model_module_version": "1.2.0",
          "state": {
            "_model_module": "@jupyter-widgets/base",
            "_model_module_version": "1.2.0",
            "_model_name": "LayoutModel",
            "_view_count": null,
            "_view_module": "@jupyter-widgets/base",
            "_view_module_version": "1.2.0",
            "_view_name": "LayoutView",
            "align_content": null,
            "align_items": null,
            "align_self": null,
            "border": null,
            "bottom": null,
            "display": null,
            "flex": null,
            "flex_flow": null,
            "grid_area": "widget006",
            "grid_auto_columns": null,
            "grid_auto_flow": null,
            "grid_auto_rows": null,
            "grid_column": null,
            "grid_gap": null,
            "grid_row": null,
            "grid_template_areas": null,
            "grid_template_columns": null,
            "grid_template_rows": null,
            "height": "auto",
            "justify_content": null,
            "justify_items": null,
            "left": null,
            "margin": null,
            "max_height": null,
            "max_width": null,
            "min_height": null,
            "min_width": null,
            "object_fit": null,
            "object_position": null,
            "order": null,
            "overflow": null,
            "overflow_x": null,
            "overflow_y": null,
            "padding": null,
            "right": null,
            "top": null,
            "visibility": null,
            "width": "auto"
          }
        },
        "cc14ccc987d54f59aefcf199a1656168": {
          "model_module": "@jupyter-widgets/controls",
          "model_name": "ButtonStyleModel",
          "model_module_version": "1.5.0",
          "state": {
            "_model_module": "@jupyter-widgets/controls",
            "_model_module_version": "1.5.0",
            "_model_name": "ButtonStyleModel",
            "_view_count": null,
            "_view_module": "@jupyter-widgets/base",
            "_view_module_version": "1.2.0",
            "_view_name": "StyleView",
            "button_color": null,
            "font_weight": ""
          }
        },
        "7a2e282325a640f782dd42d5c2745016": {
          "model_module": "@jupyter-widgets/base",
          "model_name": "LayoutModel",
          "model_module_version": "1.2.0",
          "state": {
            "_model_module": "@jupyter-widgets/base",
            "_model_module_version": "1.2.0",
            "_model_name": "LayoutModel",
            "_view_count": null,
            "_view_module": "@jupyter-widgets/base",
            "_view_module_version": "1.2.0",
            "_view_name": "LayoutView",
            "align_content": null,
            "align_items": null,
            "align_self": null,
            "border": null,
            "bottom": null,
            "display": null,
            "flex": null,
            "flex_flow": null,
            "grid_area": "widget007",
            "grid_auto_columns": null,
            "grid_auto_flow": null,
            "grid_auto_rows": null,
            "grid_column": null,
            "grid_gap": null,
            "grid_row": null,
            "grid_template_areas": null,
            "grid_template_columns": null,
            "grid_template_rows": null,
            "height": "auto",
            "justify_content": null,
            "justify_items": null,
            "left": null,
            "margin": null,
            "max_height": null,
            "max_width": null,
            "min_height": null,
            "min_width": null,
            "object_fit": null,
            "object_position": null,
            "order": null,
            "overflow": null,
            "overflow_x": null,
            "overflow_y": null,
            "padding": null,
            "right": null,
            "top": null,
            "visibility": null,
            "width": "auto"
          }
        },
        "7b5e000f4e3a4b019de4e4e8ec7c6833": {
          "model_module": "@jupyter-widgets/controls",
          "model_name": "ButtonStyleModel",
          "model_module_version": "1.5.0",
          "state": {
            "_model_module": "@jupyter-widgets/controls",
            "_model_module_version": "1.5.0",
            "_model_name": "ButtonStyleModel",
            "_view_count": null,
            "_view_module": "@jupyter-widgets/base",
            "_view_module_version": "1.2.0",
            "_view_name": "StyleView",
            "button_color": null,
            "font_weight": ""
          }
        },
        "52929e6f4cb946d8a40b271c2412ee36": {
          "model_module": "@jupyter-widgets/base",
          "model_name": "LayoutModel",
          "model_module_version": "1.2.0",
          "state": {
            "_model_module": "@jupyter-widgets/base",
            "_model_module_version": "1.2.0",
            "_model_name": "LayoutModel",
            "_view_count": null,
            "_view_module": "@jupyter-widgets/base",
            "_view_module_version": "1.2.0",
            "_view_name": "LayoutView",
            "align_content": null,
            "align_items": null,
            "align_self": null,
            "border": null,
            "bottom": null,
            "display": null,
            "flex": null,
            "flex_flow": null,
            "grid_area": "widget008",
            "grid_auto_columns": null,
            "grid_auto_flow": null,
            "grid_auto_rows": null,
            "grid_column": null,
            "grid_gap": null,
            "grid_row": null,
            "grid_template_areas": null,
            "grid_template_columns": null,
            "grid_template_rows": null,
            "height": "auto",
            "justify_content": null,
            "justify_items": null,
            "left": null,
            "margin": null,
            "max_height": null,
            "max_width": null,
            "min_height": null,
            "min_width": null,
            "object_fit": null,
            "object_position": null,
            "order": null,
            "overflow": null,
            "overflow_x": null,
            "overflow_y": null,
            "padding": null,
            "right": null,
            "top": null,
            "visibility": null,
            "width": "auto"
          }
        },
        "5561b8fa3a7c4dea9ee85238a0794a18": {
          "model_module": "@jupyter-widgets/controls",
          "model_name": "ButtonStyleModel",
          "model_module_version": "1.5.0",
          "state": {
            "_model_module": "@jupyter-widgets/controls",
            "_model_module_version": "1.5.0",
            "_model_name": "ButtonStyleModel",
            "_view_count": null,
            "_view_module": "@jupyter-widgets/base",
            "_view_module_version": "1.2.0",
            "_view_name": "StyleView",
            "button_color": null,
            "font_weight": ""
          }
        },
        "8d8a50fc01504834a88a545ac67335cc": {
          "model_module": "@jupyter-widgets/base",
          "model_name": "LayoutModel",
          "model_module_version": "1.2.0",
          "state": {
            "_model_module": "@jupyter-widgets/base",
            "_model_module_version": "1.2.0",
            "_model_name": "LayoutModel",
            "_view_count": null,
            "_view_module": "@jupyter-widgets/base",
            "_view_module_version": "1.2.0",
            "_view_name": "LayoutView",
            "align_content": null,
            "align_items": null,
            "align_self": null,
            "border": null,
            "bottom": null,
            "display": null,
            "flex": null,
            "flex_flow": null,
            "grid_area": "widget009",
            "grid_auto_columns": null,
            "grid_auto_flow": null,
            "grid_auto_rows": null,
            "grid_column": null,
            "grid_gap": null,
            "grid_row": null,
            "grid_template_areas": null,
            "grid_template_columns": null,
            "grid_template_rows": null,
            "height": "auto",
            "justify_content": null,
            "justify_items": null,
            "left": null,
            "margin": null,
            "max_height": null,
            "max_width": null,
            "min_height": null,
            "min_width": null,
            "object_fit": null,
            "object_position": null,
            "order": null,
            "overflow": null,
            "overflow_x": null,
            "overflow_y": null,
            "padding": null,
            "right": null,
            "top": null,
            "visibility": null,
            "width": "auto"
          }
        },
        "dcebfc5cbb684b2f96939f5eefbab260": {
          "model_module": "@jupyter-widgets/controls",
          "model_name": "ButtonStyleModel",
          "model_module_version": "1.5.0",
          "state": {
            "_model_module": "@jupyter-widgets/controls",
            "_model_module_version": "1.5.0",
            "_model_name": "ButtonStyleModel",
            "_view_count": null,
            "_view_module": "@jupyter-widgets/base",
            "_view_module_version": "1.2.0",
            "_view_name": "StyleView",
            "button_color": null,
            "font_weight": ""
          }
        },
        "c63fb95d2aa14241a9a4085e398d3e43": {
          "model_module": "@jupyter-widgets/base",
          "model_name": "LayoutModel",
          "model_module_version": "1.2.0",
          "state": {
            "_model_module": "@jupyter-widgets/base",
            "_model_module_version": "1.2.0",
            "_model_name": "LayoutModel",
            "_view_count": null,
            "_view_module": "@jupyter-widgets/base",
            "_view_module_version": "1.2.0",
            "_view_name": "LayoutView",
            "align_content": null,
            "align_items": null,
            "align_self": null,
            "border": null,
            "bottom": null,
            "display": null,
            "flex": null,
            "flex_flow": null,
            "grid_area": "widget010",
            "grid_auto_columns": null,
            "grid_auto_flow": null,
            "grid_auto_rows": null,
            "grid_column": null,
            "grid_gap": null,
            "grid_row": null,
            "grid_template_areas": null,
            "grid_template_columns": null,
            "grid_template_rows": null,
            "height": "auto",
            "justify_content": null,
            "justify_items": null,
            "left": null,
            "margin": null,
            "max_height": null,
            "max_width": null,
            "min_height": null,
            "min_width": null,
            "object_fit": null,
            "object_position": null,
            "order": null,
            "overflow": null,
            "overflow_x": null,
            "overflow_y": null,
            "padding": null,
            "right": null,
            "top": null,
            "visibility": null,
            "width": "auto"
          }
        },
        "80645e46334b4fdcaad0791c70f507a1": {
          "model_module": "@jupyter-widgets/controls",
          "model_name": "ButtonStyleModel",
          "model_module_version": "1.5.0",
          "state": {
            "_model_module": "@jupyter-widgets/controls",
            "_model_module_version": "1.5.0",
            "_model_name": "ButtonStyleModel",
            "_view_count": null,
            "_view_module": "@jupyter-widgets/base",
            "_view_module_version": "1.2.0",
            "_view_name": "StyleView",
            "button_color": null,
            "font_weight": ""
          }
        },
        "f3616b169d7b47f88cd8e4f8b49a215e": {
          "model_module": "@jupyter-widgets/base",
          "model_name": "LayoutModel",
          "model_module_version": "1.2.0",
          "state": {
            "_model_module": "@jupyter-widgets/base",
            "_model_module_version": "1.2.0",
            "_model_name": "LayoutModel",
            "_view_count": null,
            "_view_module": "@jupyter-widgets/base",
            "_view_module_version": "1.2.0",
            "_view_name": "LayoutView",
            "align_content": null,
            "align_items": null,
            "align_self": null,
            "border": null,
            "bottom": null,
            "display": null,
            "flex": null,
            "flex_flow": null,
            "grid_area": "widget011",
            "grid_auto_columns": null,
            "grid_auto_flow": null,
            "grid_auto_rows": null,
            "grid_column": null,
            "grid_gap": null,
            "grid_row": null,
            "grid_template_areas": null,
            "grid_template_columns": null,
            "grid_template_rows": null,
            "height": "auto",
            "justify_content": null,
            "justify_items": null,
            "left": null,
            "margin": null,
            "max_height": null,
            "max_width": null,
            "min_height": null,
            "min_width": null,
            "object_fit": null,
            "object_position": null,
            "order": null,
            "overflow": null,
            "overflow_x": null,
            "overflow_y": null,
            "padding": null,
            "right": null,
            "top": null,
            "visibility": null,
            "width": "auto"
          }
        },
        "2737d35fa8d848d1aa243d6a792b0948": {
          "model_module": "@jupyter-widgets/controls",
          "model_name": "ButtonStyleModel",
          "model_module_version": "1.5.0",
          "state": {
            "_model_module": "@jupyter-widgets/controls",
            "_model_module_version": "1.5.0",
            "_model_name": "ButtonStyleModel",
            "_view_count": null,
            "_view_module": "@jupyter-widgets/base",
            "_view_module_version": "1.2.0",
            "_view_name": "StyleView",
            "button_color": null,
            "font_weight": ""
          }
        },
        "066acbd7e7914706ad512857540b8149": {
          "model_module": "@jupyter-widgets/base",
          "model_name": "LayoutModel",
          "model_module_version": "1.2.0",
          "state": {
            "_model_module": "@jupyter-widgets/base",
            "_model_module_version": "1.2.0",
            "_model_name": "LayoutModel",
            "_view_count": null,
            "_view_module": "@jupyter-widgets/base",
            "_view_module_version": "1.2.0",
            "_view_name": "LayoutView",
            "align_content": null,
            "align_items": null,
            "align_self": null,
            "border": null,
            "bottom": null,
            "display": null,
            "flex": null,
            "flex_flow": null,
            "grid_area": "widget012",
            "grid_auto_columns": null,
            "grid_auto_flow": null,
            "grid_auto_rows": null,
            "grid_column": null,
            "grid_gap": null,
            "grid_row": null,
            "grid_template_areas": null,
            "grid_template_columns": null,
            "grid_template_rows": null,
            "height": "auto",
            "justify_content": null,
            "justify_items": null,
            "left": null,
            "margin": null,
            "max_height": null,
            "max_width": null,
            "min_height": null,
            "min_width": null,
            "object_fit": null,
            "object_position": null,
            "order": null,
            "overflow": null,
            "overflow_x": null,
            "overflow_y": null,
            "padding": null,
            "right": null,
            "top": null,
            "visibility": null,
            "width": "auto"
          }
        },
        "dbb3e0ed442d452f96180707267ff2e2": {
          "model_module": "@jupyter-widgets/controls",
          "model_name": "ButtonStyleModel",
          "model_module_version": "1.5.0",
          "state": {
            "_model_module": "@jupyter-widgets/controls",
            "_model_module_version": "1.5.0",
            "_model_name": "ButtonStyleModel",
            "_view_count": null,
            "_view_module": "@jupyter-widgets/base",
            "_view_module_version": "1.2.0",
            "_view_name": "StyleView",
            "button_color": null,
            "font_weight": ""
          }
        },
        "c3b0216203924a49950d59f99a543887": {
          "model_module": "@jupyter-widgets/base",
          "model_name": "LayoutModel",
          "model_module_version": "1.2.0",
          "state": {
            "_model_module": "@jupyter-widgets/base",
            "_model_module_version": "1.2.0",
            "_model_name": "LayoutModel",
            "_view_count": null,
            "_view_module": "@jupyter-widgets/base",
            "_view_module_version": "1.2.0",
            "_view_name": "LayoutView",
            "align_content": null,
            "align_items": null,
            "align_self": null,
            "border": null,
            "bottom": null,
            "display": null,
            "flex": null,
            "flex_flow": null,
            "grid_area": "widget013",
            "grid_auto_columns": null,
            "grid_auto_flow": null,
            "grid_auto_rows": null,
            "grid_column": null,
            "grid_gap": null,
            "grid_row": null,
            "grid_template_areas": null,
            "grid_template_columns": null,
            "grid_template_rows": null,
            "height": "auto",
            "justify_content": null,
            "justify_items": null,
            "left": null,
            "margin": null,
            "max_height": null,
            "max_width": null,
            "min_height": null,
            "min_width": null,
            "object_fit": null,
            "object_position": null,
            "order": null,
            "overflow": null,
            "overflow_x": null,
            "overflow_y": null,
            "padding": null,
            "right": null,
            "top": null,
            "visibility": null,
            "width": "auto"
          }
        },
        "037967d5038d4a56b82812441fe50e24": {
          "model_module": "@jupyter-widgets/controls",
          "model_name": "ButtonStyleModel",
          "model_module_version": "1.5.0",
          "state": {
            "_model_module": "@jupyter-widgets/controls",
            "_model_module_version": "1.5.0",
            "_model_name": "ButtonStyleModel",
            "_view_count": null,
            "_view_module": "@jupyter-widgets/base",
            "_view_module_version": "1.2.0",
            "_view_name": "StyleView",
            "button_color": null,
            "font_weight": ""
          }
        },
        "e50f3a02b60c47d6a5baabe0740638e8": {
          "model_module": "@jupyter-widgets/base",
          "model_name": "LayoutModel",
          "model_module_version": "1.2.0",
          "state": {
            "_model_module": "@jupyter-widgets/base",
            "_model_module_version": "1.2.0",
            "_model_name": "LayoutModel",
            "_view_count": null,
            "_view_module": "@jupyter-widgets/base",
            "_view_module_version": "1.2.0",
            "_view_name": "LayoutView",
            "align_content": null,
            "align_items": null,
            "align_self": null,
            "border": null,
            "bottom": null,
            "display": null,
            "flex": null,
            "flex_flow": null,
            "grid_area": "widget014",
            "grid_auto_columns": null,
            "grid_auto_flow": null,
            "grid_auto_rows": null,
            "grid_column": null,
            "grid_gap": null,
            "grid_row": null,
            "grid_template_areas": null,
            "grid_template_columns": null,
            "grid_template_rows": null,
            "height": "auto",
            "justify_content": null,
            "justify_items": null,
            "left": null,
            "margin": null,
            "max_height": null,
            "max_width": null,
            "min_height": null,
            "min_width": null,
            "object_fit": null,
            "object_position": null,
            "order": null,
            "overflow": null,
            "overflow_x": null,
            "overflow_y": null,
            "padding": null,
            "right": null,
            "top": null,
            "visibility": null,
            "width": "auto"
          }
        },
        "884186306d404b76aa93b1cbd660e711": {
          "model_module": "@jupyter-widgets/controls",
          "model_name": "ButtonStyleModel",
          "model_module_version": "1.5.0",
          "state": {
            "_model_module": "@jupyter-widgets/controls",
            "_model_module_version": "1.5.0",
            "_model_name": "ButtonStyleModel",
            "_view_count": null,
            "_view_module": "@jupyter-widgets/base",
            "_view_module_version": "1.2.0",
            "_view_name": "StyleView",
            "button_color": null,
            "font_weight": ""
          }
        },
        "edc6b3ec76a74320bf8dc90825cfbfc0": {
          "model_module": "@jupyter-widgets/base",
          "model_name": "LayoutModel",
          "model_module_version": "1.2.0",
          "state": {
            "_model_module": "@jupyter-widgets/base",
            "_model_module_version": "1.2.0",
            "_model_name": "LayoutModel",
            "_view_count": null,
            "_view_module": "@jupyter-widgets/base",
            "_view_module_version": "1.2.0",
            "_view_name": "LayoutView",
            "align_content": null,
            "align_items": null,
            "align_self": null,
            "border": null,
            "bottom": null,
            "display": null,
            "flex": null,
            "flex_flow": null,
            "grid_area": "widget015",
            "grid_auto_columns": null,
            "grid_auto_flow": null,
            "grid_auto_rows": null,
            "grid_column": null,
            "grid_gap": null,
            "grid_row": null,
            "grid_template_areas": null,
            "grid_template_columns": null,
            "grid_template_rows": null,
            "height": "auto",
            "justify_content": null,
            "justify_items": null,
            "left": null,
            "margin": null,
            "max_height": null,
            "max_width": null,
            "min_height": null,
            "min_width": null,
            "object_fit": null,
            "object_position": null,
            "order": null,
            "overflow": null,
            "overflow_x": null,
            "overflow_y": null,
            "padding": null,
            "right": null,
            "top": null,
            "visibility": null,
            "width": "auto"
          }
        },
        "96fdb5797c6444c7a933f8e0f298f298": {
          "model_module": "@jupyter-widgets/controls",
          "model_name": "ButtonStyleModel",
          "model_module_version": "1.5.0",
          "state": {
            "_model_module": "@jupyter-widgets/controls",
            "_model_module_version": "1.5.0",
            "_model_name": "ButtonStyleModel",
            "_view_count": null,
            "_view_module": "@jupyter-widgets/base",
            "_view_module_version": "1.2.0",
            "_view_name": "StyleView",
            "button_color": null,
            "font_weight": ""
          }
        },
        "61547bf20b1448d7a276a555c4e2e876": {
          "model_module": "@jupyter-widgets/base",
          "model_name": "LayoutModel",
          "model_module_version": "1.2.0",
          "state": {
            "_model_module": "@jupyter-widgets/base",
            "_model_module_version": "1.2.0",
            "_model_name": "LayoutModel",
            "_view_count": null,
            "_view_module": "@jupyter-widgets/base",
            "_view_module_version": "1.2.0",
            "_view_name": "LayoutView",
            "align_content": null,
            "align_items": null,
            "align_self": null,
            "border": null,
            "bottom": null,
            "display": null,
            "flex": null,
            "flex_flow": null,
            "grid_area": "widget016",
            "grid_auto_columns": null,
            "grid_auto_flow": null,
            "grid_auto_rows": null,
            "grid_column": null,
            "grid_gap": null,
            "grid_row": null,
            "grid_template_areas": null,
            "grid_template_columns": null,
            "grid_template_rows": null,
            "height": "auto",
            "justify_content": null,
            "justify_items": null,
            "left": null,
            "margin": null,
            "max_height": null,
            "max_width": null,
            "min_height": null,
            "min_width": null,
            "object_fit": null,
            "object_position": null,
            "order": null,
            "overflow": null,
            "overflow_x": null,
            "overflow_y": null,
            "padding": null,
            "right": null,
            "top": null,
            "visibility": null,
            "width": "auto"
          }
        },
        "1af7fa9fe7584f78b59ddcfe235b7036": {
          "model_module": "@jupyter-widgets/controls",
          "model_name": "ButtonStyleModel",
          "model_module_version": "1.5.0",
          "state": {
            "_model_module": "@jupyter-widgets/controls",
            "_model_module_version": "1.5.0",
            "_model_name": "ButtonStyleModel",
            "_view_count": null,
            "_view_module": "@jupyter-widgets/base",
            "_view_module_version": "1.2.0",
            "_view_name": "StyleView",
            "button_color": null,
            "font_weight": ""
          }
        },
        "95cac6cd2625476b80b886c8b9fa72ac": {
          "model_module": "@jupyter-widgets/base",
          "model_name": "LayoutModel",
          "model_module_version": "1.2.0",
          "state": {
            "_model_module": "@jupyter-widgets/base",
            "_model_module_version": "1.2.0",
            "_model_name": "LayoutModel",
            "_view_count": null,
            "_view_module": "@jupyter-widgets/base",
            "_view_module_version": "1.2.0",
            "_view_name": "LayoutView",
            "align_content": null,
            "align_items": null,
            "align_self": null,
            "border": null,
            "bottom": null,
            "display": null,
            "flex": null,
            "flex_flow": null,
            "grid_area": "widget017",
            "grid_auto_columns": null,
            "grid_auto_flow": null,
            "grid_auto_rows": null,
            "grid_column": null,
            "grid_gap": null,
            "grid_row": null,
            "grid_template_areas": null,
            "grid_template_columns": null,
            "grid_template_rows": null,
            "height": "auto",
            "justify_content": null,
            "justify_items": null,
            "left": null,
            "margin": null,
            "max_height": null,
            "max_width": null,
            "min_height": null,
            "min_width": null,
            "object_fit": null,
            "object_position": null,
            "order": null,
            "overflow": null,
            "overflow_x": null,
            "overflow_y": null,
            "padding": null,
            "right": null,
            "top": null,
            "visibility": null,
            "width": "auto"
          }
        },
        "258661a864ef42a1a28e3f469331539e": {
          "model_module": "@jupyter-widgets/controls",
          "model_name": "ButtonStyleModel",
          "model_module_version": "1.5.0",
          "state": {
            "_model_module": "@jupyter-widgets/controls",
            "_model_module_version": "1.5.0",
            "_model_name": "ButtonStyleModel",
            "_view_count": null,
            "_view_module": "@jupyter-widgets/base",
            "_view_module_version": "1.2.0",
            "_view_name": "StyleView",
            "button_color": null,
            "font_weight": ""
          }
        },
        "e434040c8c56438d920a6ac3b95e2b54": {
          "model_module": "@jupyter-widgets/base",
          "model_name": "LayoutModel",
          "model_module_version": "1.2.0",
          "state": {
            "_model_module": "@jupyter-widgets/base",
            "_model_module_version": "1.2.0",
            "_model_name": "LayoutModel",
            "_view_count": null,
            "_view_module": "@jupyter-widgets/base",
            "_view_module_version": "1.2.0",
            "_view_name": "LayoutView",
            "align_content": null,
            "align_items": null,
            "align_self": null,
            "border": null,
            "bottom": null,
            "display": null,
            "flex": null,
            "flex_flow": null,
            "grid_area": "widget018",
            "grid_auto_columns": null,
            "grid_auto_flow": null,
            "grid_auto_rows": null,
            "grid_column": null,
            "grid_gap": null,
            "grid_row": null,
            "grid_template_areas": null,
            "grid_template_columns": null,
            "grid_template_rows": null,
            "height": "auto",
            "justify_content": null,
            "justify_items": null,
            "left": null,
            "margin": null,
            "max_height": null,
            "max_width": null,
            "min_height": null,
            "min_width": null,
            "object_fit": null,
            "object_position": null,
            "order": null,
            "overflow": null,
            "overflow_x": null,
            "overflow_y": null,
            "padding": null,
            "right": null,
            "top": null,
            "visibility": null,
            "width": "auto"
          }
        },
        "a5819465610f48a3b0ec58a83bfdc263": {
          "model_module": "@jupyter-widgets/controls",
          "model_name": "ButtonStyleModel",
          "model_module_version": "1.5.0",
          "state": {
            "_model_module": "@jupyter-widgets/controls",
            "_model_module_version": "1.5.0",
            "_model_name": "ButtonStyleModel",
            "_view_count": null,
            "_view_module": "@jupyter-widgets/base",
            "_view_module_version": "1.2.0",
            "_view_name": "StyleView",
            "button_color": null,
            "font_weight": ""
          }
        },
        "76b9c9bd449a4f0c962bd3e37490b437": {
          "model_module": "@jupyter-widgets/base",
          "model_name": "LayoutModel",
          "model_module_version": "1.2.0",
          "state": {
            "_model_module": "@jupyter-widgets/base",
            "_model_module_version": "1.2.0",
            "_model_name": "LayoutModel",
            "_view_count": null,
            "_view_module": "@jupyter-widgets/base",
            "_view_module_version": "1.2.0",
            "_view_name": "LayoutView",
            "align_content": null,
            "align_items": null,
            "align_self": null,
            "border": null,
            "bottom": null,
            "display": null,
            "flex": null,
            "flex_flow": null,
            "grid_area": "widget019",
            "grid_auto_columns": null,
            "grid_auto_flow": null,
            "grid_auto_rows": null,
            "grid_column": null,
            "grid_gap": null,
            "grid_row": null,
            "grid_template_areas": null,
            "grid_template_columns": null,
            "grid_template_rows": null,
            "height": "auto",
            "justify_content": null,
            "justify_items": null,
            "left": null,
            "margin": null,
            "max_height": null,
            "max_width": null,
            "min_height": null,
            "min_width": null,
            "object_fit": null,
            "object_position": null,
            "order": null,
            "overflow": null,
            "overflow_x": null,
            "overflow_y": null,
            "padding": null,
            "right": null,
            "top": null,
            "visibility": null,
            "width": "auto"
          }
        },
        "d51407ad5a5f470f850f9a654507ca44": {
          "model_module": "@jupyter-widgets/controls",
          "model_name": "ButtonStyleModel",
          "model_module_version": "1.5.0",
          "state": {
            "_model_module": "@jupyter-widgets/controls",
            "_model_module_version": "1.5.0",
            "_model_name": "ButtonStyleModel",
            "_view_count": null,
            "_view_module": "@jupyter-widgets/base",
            "_view_module_version": "1.2.0",
            "_view_name": "StyleView",
            "button_color": null,
            "font_weight": ""
          }
        },
        "d5ebc6463e664be0ad1532e8440c91bf": {
          "model_module": "@jupyter-widgets/base",
          "model_name": "LayoutModel",
          "model_module_version": "1.2.0",
          "state": {
            "_model_module": "@jupyter-widgets/base",
            "_model_module_version": "1.2.0",
            "_model_name": "LayoutModel",
            "_view_count": null,
            "_view_module": "@jupyter-widgets/base",
            "_view_module_version": "1.2.0",
            "_view_name": "LayoutView",
            "align_content": null,
            "align_items": null,
            "align_self": null,
            "border": null,
            "bottom": null,
            "display": null,
            "flex": null,
            "flex_flow": null,
            "grid_area": "widget020",
            "grid_auto_columns": null,
            "grid_auto_flow": null,
            "grid_auto_rows": null,
            "grid_column": null,
            "grid_gap": null,
            "grid_row": null,
            "grid_template_areas": null,
            "grid_template_columns": null,
            "grid_template_rows": null,
            "height": "auto",
            "justify_content": null,
            "justify_items": null,
            "left": null,
            "margin": null,
            "max_height": null,
            "max_width": null,
            "min_height": null,
            "min_width": null,
            "object_fit": null,
            "object_position": null,
            "order": null,
            "overflow": null,
            "overflow_x": null,
            "overflow_y": null,
            "padding": null,
            "right": null,
            "top": null,
            "visibility": null,
            "width": "auto"
          }
        },
        "f0be6663b26343a7a0e1ce09e10e068e": {
          "model_module": "@jupyter-widgets/controls",
          "model_name": "ButtonStyleModel",
          "model_module_version": "1.5.0",
          "state": {
            "_model_module": "@jupyter-widgets/controls",
            "_model_module_version": "1.5.0",
            "_model_name": "ButtonStyleModel",
            "_view_count": null,
            "_view_module": "@jupyter-widgets/base",
            "_view_module_version": "1.2.0",
            "_view_name": "StyleView",
            "button_color": null,
            "font_weight": ""
          }
        },
        "9aa7a8e589ae4e8088cecc095a67511b": {
          "model_module": "@jupyter-widgets/output",
          "model_name": "OutputModel",
          "model_module_version": "1.0.0",
          "state": {
            "_dom_classes": [],
            "_model_module": "@jupyter-widgets/output",
            "_model_module_version": "1.0.0",
            "_model_name": "OutputModel",
            "_view_count": null,
            "_view_module": "@jupyter-widgets/output",
            "_view_module_version": "1.0.0",
            "_view_name": "OutputView",
            "layout": "IPY_MODEL_4cb5fce5b0114c7c8f5942c90cdcf014",
            "msg_id": "",
            "outputs": [
              {
                "output_type": "display_data",
                "data": {
                  "text/plain": "['8']"
                },
                "metadata": {}
              },
              {
                "output_type": "display_data",
                "data": {
                  "text/plain": "''",
                  "application/vnd.google.colaboratory.intrinsic+json": {
                    "type": "string"
                  }
                },
                "metadata": {}
              },
              {
                "output_type": "display_data",
                "data": {
                  "text/plain": "0"
                },
                "metadata": {}
              }
            ]
          }
        },
        "4cb5fce5b0114c7c8f5942c90cdcf014": {
          "model_module": "@jupyter-widgets/base",
          "model_name": "LayoutModel",
          "model_module_version": "1.2.0",
          "state": {
            "_model_module": "@jupyter-widgets/base",
            "_model_module_version": "1.2.0",
            "_model_name": "LayoutModel",
            "_view_count": null,
            "_view_module": "@jupyter-widgets/base",
            "_view_module_version": "1.2.0",
            "_view_name": "LayoutView",
            "align_content": null,
            "align_items": null,
            "align_self": null,
            "border": null,
            "bottom": null,
            "display": null,
            "flex": null,
            "flex_flow": null,
            "grid_area": null,
            "grid_auto_columns": null,
            "grid_auto_flow": null,
            "grid_auto_rows": null,
            "grid_column": null,
            "grid_gap": null,
            "grid_row": null,
            "grid_template_areas": null,
            "grid_template_columns": null,
            "grid_template_rows": null,
            "height": null,
            "justify_content": null,
            "justify_items": null,
            "left": null,
            "margin": null,
            "max_height": null,
            "max_width": null,
            "min_height": null,
            "min_width": null,
            "object_fit": null,
            "object_position": null,
            "order": null,
            "overflow": null,
            "overflow_x": null,
            "overflow_y": null,
            "padding": null,
            "right": null,
            "top": null,
            "visibility": null,
            "width": null
          }
        }
      }
    }
  },
  "cells": [
    {
      "cell_type": "markdown",
      "metadata": {
        "id": "view-in-github",
        "colab_type": "text"
      },
      "source": [
        "<a href=\"https://colab.research.google.com/github/N0b0dy000/calculator-worksish/blob/did-not-work/that_didn't_work_negative.ipynb\" target=\"_parent\"><img src=\"https://colab.research.google.com/assets/colab-badge.svg\" alt=\"Open In Colab\"/></a>"
      ]
    },
    {
      "cell_type": "markdown",
      "source": [
        "#front end user inputs grid"
      ],
      "metadata": {
        "id": "WB53dGztgzep"
      }
    },
    {
      "cell_type": "code",
      "source": [
        "import numpy as np\n",
        "import ipywidgets as widgets\n",
        "from IPython.display import display\n",
        "\n",
        "from ipywidgets import GridspecLayout\n",
        "from ipywidgets import Button, Layout, jslink, IntText#, IntSlider\n",
        "\n",
        "def create_button(description, button_style):\n",
        "    return Button(description=description, \n",
        "                  button_style=button_style, \n",
        "                  layout=Layout(height='auto', width='auto'))\n"
      ],
      "metadata": {
        "id": "3IJqmeEo3wJC"
      },
      "execution_count": 59,
      "outputs": []
    },
    {
      "cell_type": "code",
      "source": [
        "# create grid of buttons\n",
        "import numpy as np\n",
        "from ipywidgets import GridspecLayout\n",
        "\n",
        "grid_down = 5\n",
        "grid_across = 4\n",
        "grid = GridspecLayout(grid_down, grid_across)\n",
        "\n",
        "#1-9 and 0, in calculator fashion\n",
        "numerals = 1\n",
        "check = np.arange(0,10,1)\n",
        "\n",
        "# put numbers 1 through 9 on buttons\n",
        "# put 0, decimal, and equals sign on buttons\n",
        "\n",
        "for i in range(3):\n",
        "   for j in range(3):\n",
        "        grid[i, j] = create_button(f'{numerals}', '')\n",
        "        if numerals in check: numerals += 1\n",
        "\n",
        "grid[i+1,j-1] = create_button('0', '')\n",
        "grid[i+1,j-2] = create_button('.', '')\n",
        "grid[i+1,j] = create_button('=', '')\n",
        "\n",
        "# makes and assigns buttons to the 4 basic operators\n",
        "operator_standing_by = ['/', '*', '-', '+']\n",
        "for i in range(4): \n",
        "  grid[i,3] = create_button(f'{operator_standing_by[i]}', '')\n",
        "\n",
        "grid[i+1,j-1] = create_button(\"ANSWER\", '')\n",
        "grid[i+1,j-2] = create_button('+/-', '')\n",
        "grid[i+1,j] = create_button('back', '')\n",
        "grid[i+1,j-3] = create_button('clear', '')\n"
      ],
      "metadata": {
        "id": "S44n-BFJ2uxc"
      },
      "execution_count": 60,
      "outputs": []
    },
    {
      "cell_type": "code",
      "source": [
        "#write to the master list that gets sent to the backend. \n",
        "\n",
        "master_list = list([])\n",
        "previous_answer = ''\n",
        "\n",
        "# handles what you can and cannot input with displayed buttons\n",
        "def write_to_master_list(button_pressed):\n",
        "  global master_list \n",
        "  global previous_answer\n",
        "  # operators = list_operations()\n",
        "\n",
        "\n",
        "# is supposed to handle the positive or negative value of the input number \n",
        "  if button_pressed.description == \"+/-\" : \n",
        "    master_list = flip_positive_negative(master_list)\n",
        "\n",
        "\n",
        "  if button_pressed.description in str([1, 2, 3, 4, 5, 6, 7, 8, 9, 0]):\n",
        "    master_list.append(button_pressed.description)\n",
        "  elif button_pressed.description == \"clear\" : \n",
        "    master_list = []\n",
        "  elif button_pressed.description == \"back\" : \n",
        "    master_list = master_list[0:-1]\n",
        "\n",
        "  # puts decimal at the end of the number\n",
        "  elif button_pressed.description == \".\" : \n",
        "    if check_for_decimals(make_interpereted_list(master_list)[-1]) == \"fine\" : \n",
        "      master_list.append(button_pressed.description) \n",
        "\n",
        "\n",
        "  elif button_pressed.description == \"ANSWER\" : \n",
        "    if check_for_decimals(previous_answer) == \"problem\":\n",
        "      if check_for_decimals(make_interpereted_list(master_list)[-1]) == \"fine\": \n",
        "      # i know this will cause problems with the decimals\n",
        "        for swer in list(str(previous_answer)):\n",
        "          if swer == '-' : swer = 'm'\n",
        "          master_list.append(swer)\n",
        "    elif check_for_decimals(previous_answer) == \"fine\":\n",
        "        for swer in list(str(previous_answer)):\n",
        "          if swer == '-' : swer = 'm'\n",
        "          master_list.append(swer)\n",
        "    elif previous_answer == '' :\n",
        "      pass #\n",
        "    elif previous_answer == 'format your numbers properly please' : \n",
        "      pass \n",
        "\n",
        "\n",
        "  elif button_pressed.description in ['+', '-', '*', '/'] : \n",
        "    if master_list == [] : return ''\n",
        "    if master_list[-1] in ['+', '-', '*', '/']: master_list[-1] = button_pressed.description\n",
        "    else: master_list.append(button_pressed.description)\n",
        "    #make it impossible to move on from  negative or decimal without a number\n",
        "    #or should it be handled in the backend that it just doesn't throw an error\n",
        "\n",
        "# test\n",
        "  master_list = []\n",
        "  display(master_list, master_list)\n",
        "\n",
        "  show_on_screen_as_clicking = make_interpereted_list(master_list)\n",
        "  above_buttons_show_result(show_on_screen_as_clicking, '')\n",
        "\n",
        "  if button_pressed.description == '=' : \n",
        "    if master_list[-1] in ['+', '-', '*', '/']:\n",
        "      pass\n",
        "    else:\n",
        "      previous_answer = equate(master_list)\n",
        "\n",
        "  return(master_list)\n"
      ],
      "metadata": {
        "id": "S8qILRGiS35i"
      },
      "execution_count": 132,
      "outputs": []
    },
    {
      "cell_type": "code",
      "source": [
        "grid"
      ],
      "metadata": {
        "id": "xRlWlhguu8Ps",
        "colab": {
          "base_uri": "https://localhost:8080/",
          "referenced_widgets": [
            "5560c41f2bd74a24b2e48de34d91d563",
            "47aac928712349e0a90a0d1b1f3bf741",
            "f1623f4a588043d68e013f5bfcbe7b7f",
            "9b4ed912ca1a4a1c9e65ed2e38509a44",
            "691a0df812784ba1960a4f5fbe295915",
            "e4799f2b05964d078cdfd64bcc43d13b",
            "a30a190071c64cec8433b9957336e573",
            "50e44a1a5d4e4cb8996dd57b0c135b47",
            "3647c2290afb40f9863b04a273664d94",
            "9064ae317f9a40b7921e2f8e7962d8b9",
            "03d00b7879b049e7a92d9a4e08fa1e5c",
            "52593d41528c4def89dcddb8e26a8e6a",
            "5670228f7c654efc880461ce27d7eb68",
            "e5866549760e4ca58ff8b09c83d3e4c7",
            "5eb7a4f0be184ca38463d21a9a9ce299",
            "9a2af0688218447fbb40c9470846bad9",
            "aabc9bee3d5c4e5c9cad2b9ce13be43f",
            "6841a4d4b24b4f378f145dba711bbaf9",
            "83930b7b9f5d455fa0ff2916ae47a090",
            "bc6f2f3418364cfba515992c145c7702",
            "195d8f0c592041499116f9108a3560e8",
            "088ad6b111874b52ad0de00de593911d",
            "ca58252f11444e268408e087387600ac",
            "62cfdda95eac48cf952c486414750543",
            "6e14a3f920114869bdbc1633f70f684d",
            "34c7597c09504adaa74df0ab62b51e68",
            "12cc00df312c479a86ed3d9d00516f3e",
            "c596d1a63bbf4b64bb4bdf604df0418e",
            "6e291573be2c436593c73c873284bf45",
            "708b6cea59ee4e998011b62ebb536c4e",
            "35b5d7a1e25b425b80893912264d7d2c",
            "c9c586edf13640139c405b43dfc8dc21",
            "f99fb503d55042ac8fdc5f8493cd0367",
            "cc14ccc987d54f59aefcf199a1656168",
            "7a2e282325a640f782dd42d5c2745016",
            "7b5e000f4e3a4b019de4e4e8ec7c6833",
            "52929e6f4cb946d8a40b271c2412ee36",
            "5561b8fa3a7c4dea9ee85238a0794a18",
            "8d8a50fc01504834a88a545ac67335cc",
            "dcebfc5cbb684b2f96939f5eefbab260",
            "c63fb95d2aa14241a9a4085e398d3e43",
            "80645e46334b4fdcaad0791c70f507a1",
            "f3616b169d7b47f88cd8e4f8b49a215e",
            "2737d35fa8d848d1aa243d6a792b0948",
            "066acbd7e7914706ad512857540b8149",
            "dbb3e0ed442d452f96180707267ff2e2",
            "c3b0216203924a49950d59f99a543887",
            "037967d5038d4a56b82812441fe50e24",
            "e50f3a02b60c47d6a5baabe0740638e8",
            "884186306d404b76aa93b1cbd660e711",
            "edc6b3ec76a74320bf8dc90825cfbfc0",
            "96fdb5797c6444c7a933f8e0f298f298",
            "61547bf20b1448d7a276a555c4e2e876",
            "1af7fa9fe7584f78b59ddcfe235b7036",
            "95cac6cd2625476b80b886c8b9fa72ac",
            "258661a864ef42a1a28e3f469331539e",
            "e434040c8c56438d920a6ac3b95e2b54",
            "a5819465610f48a3b0ec58a83bfdc263",
            "76b9c9bd449a4f0c962bd3e37490b437",
            "d51407ad5a5f470f850f9a654507ca44",
            "d5ebc6463e664be0ad1532e8440c91bf",
            "f0be6663b26343a7a0e1ce09e10e068e"
          ],
          "height": 284
        },
        "outputId": "88e009da-8019-4662-ff4a-8e3f16183fc9"
      },
      "execution_count": 62,
      "outputs": [
        {
          "output_type": "display_data",
          "data": {
            "text/plain": [
              "GridspecLayout(children=(Button(description='1', layout=Layout(grid_area='widget001', height='auto', width='au…"
            ],
            "application/vnd.jupyter.widget-view+json": {
              "version_major": 2,
              "version_minor": 0,
              "model_id": "5560c41f2bd74a24b2e48de34d91d563"
            }
          },
          "metadata": {}
        },
        {
          "output_type": "display_data",
          "data": {
            "text/plain": [
              "[]"
            ]
          },
          "metadata": {}
        },
        {
          "output_type": "display_data",
          "data": {
            "text/plain": [
              "'test'"
            ],
            "application/vnd.google.colaboratory.intrinsic+json": {
              "type": "string"
            }
          },
          "metadata": {}
        },
        {
          "output_type": "display_data",
          "data": {
            "text/plain": [
              "[]"
            ]
          },
          "metadata": {}
        },
        {
          "output_type": "display_data",
          "data": {
            "text/plain": [
              "'test oddity'"
            ],
            "application/vnd.google.colaboratory.intrinsic+json": {
              "type": "string"
            }
          },
          "metadata": {}
        },
        {
          "output_type": "display_data",
          "data": {
            "text/plain": [
              "['m']"
            ]
          },
          "metadata": {}
        },
        {
          "output_type": "display_data",
          "data": {
            "text/plain": [
              "'sdfghjkm,zlh'"
            ],
            "application/vnd.google.colaboratory.intrinsic+json": {
              "type": "string"
            }
          },
          "metadata": {}
        }
      ]
    },
    {
      "cell_type": "markdown",
      "source": [
        "#run only once"
      ],
      "metadata": {
        "id": "ldCPpkswfNq9"
      }
    },
    {
      "cell_type": "code",
      "source": [
        "#tuples for each spot on the grid which has a button\n",
        "def make_the_grid_follow_calculator_inputs():\n",
        "  for hy in range(grid_down):\n",
        "    for kn in range(grid_across): \n",
        "      grid[hy, kn].on_click(write_to_master_list)\n",
        "make_the_grid_follow_calculator_inputs()"
      ],
      "metadata": {
        "id": "0HCHlSV_FGx_"
      },
      "execution_count": 64,
      "outputs": []
    },
    {
      "cell_type": "markdown",
      "source": [
        "#defining functions"
      ],
      "metadata": {
        "id": "sLX5SJx9zvHT"
      }
    },
    {
      "cell_type": "code",
      "source": [
        "# operations the backend can apply to numbers\n",
        "def list_operations():\n",
        "  return ['+', '-', '*', '/']"
      ],
      "metadata": {
        "id": "-MyiFsWrwo2U"
      },
      "execution_count": 72,
      "outputs": []
    },
    {
      "cell_type": "code",
      "source": [
        "def flip_positive_negative(mirror_master):\n",
        "  display(mirror_master, 'test')\n",
        "  display(mirror_master, 'test oddity')\n",
        "\n",
        "  operators = list_operations()\n",
        "  # check if the master list contains  any of the operators\n",
        "  fi = 0\n",
        "  for dud in mirror_master :\n",
        "    if dud in operators:\n",
        "      fi += 1\n",
        "    else: \n",
        "      fi += 0\n",
        "  if fi > 0:\n",
        "    last_operator = [g for g in mirror_master if g in operators][-1]\n",
        "  else:\n",
        "    last_operator = 0\n",
        "\n",
        "\n",
        "\n",
        "\n",
        "  if last_operator == 0:\n",
        "    last_operator_location = -1\n",
        "  else:\n",
        "    last_operator_location = len(mirror_master) - mirror_master[::-1].index(last_operator) - 1\n",
        "\n",
        "  follow_operator = last_operator_location + 1\n",
        "\n",
        "  if mirror_master == []:\n",
        "    new_list = ['m']\n",
        "    return new_list\n",
        "  if mirror_master == ['m']:\n",
        "    new_list = []\n",
        "    return new_list\n",
        "\n",
        "# test\n",
        "  with output: display(follow_operator)\n",
        "  new_list = mirror_master.append('m')\n",
        "  return new_list\n",
        "  with output: \n",
        "    display(follow_operator)\n",
        "  display(mirror_master, 'does it happen here?')\n",
        "\n",
        "  if mirror_master[follow_operator] in str([1, 2, 3, 4, 5, 6, 7, 8, 9, 0]):\n",
        "    display(mirror_master, 'does it happen here?')\n",
        "\n",
        "    new_list = mirror_master[:follow_operator]\n",
        "    new_list = new_list+['m']\n",
        "    new_list = new_list+mirror_master[follow_operator:]\n",
        "    # with output: display(new_list, 'after operator was a number')\n",
        "    return new_list\n",
        "\n",
        "  elif mirror_master[follow_operator] in ['m']: \n",
        "    new_list = mirror_master[:follow_operator]\n",
        "    new_list = new_list+mirror_master[follow_operator+1:]\n",
        "\n",
        "    # with output: display(new_list, 'after operator was an m')\n",
        "    return new_list\n"
      ],
      "metadata": {
        "id": "rk5c4WkBTmk5"
      },
      "execution_count": 130,
      "outputs": []
    },
    {
      "cell_type": "markdown",
      "source": [
        "handle_decimals\n",
        "\n",
        "check_for_decimals\n",
        "\n",
        "how about check if passed string has a decimal in it\n"
      ],
      "metadata": {
        "id": "xt8AfmYx-mBK"
      }
    },
    {
      "cell_type": "code",
      "source": [
        "def check_for_decimals(order_up):\n",
        "  if \".\" in str(order_up): return \"problem\"\n",
        "  else: return \"fine\""
      ],
      "metadata": {
        "id": "X-lQXwLb16SY"
      },
      "execution_count": 74,
      "outputs": []
    },
    {
      "cell_type": "markdown",
      "source": [
        "_(es)\n",
        "returns a number of operators\n",
        "\n",
        "verb is count, and you are counting operators:\n",
        "count_number_of_operators\n",
        "\n",
        "streamline:\n",
        "count_operators()"
      ],
      "metadata": {
        "id": "4a6n5jc3BEuM"
      }
    },
    {
      "cell_type": "code",
      "source": [
        "#test version of master_list\n",
        "# master_list=[1,4, 6, '+', 3, '-', 3, 4,  '-', 1, '*', 4, '/', 2]\n",
        "# master_list\n",
        "\n",
        "#identifies how many operators are in the master_list\n",
        "def count_operators(es):\n",
        "  es = str(es)\n",
        "  calm = 0\n",
        "  for rew in ['+', '-', '*', '/']:\n",
        "    calm += es.count(rew)\n",
        "  return calm \n"
      ],
      "metadata": {
        "id": "S4CHRS9i_uhy"
      },
      "execution_count": 75,
      "outputs": []
    },
    {
      "cell_type": "markdown",
      "source": [
        "made_list_long_enough_to_alternate_numbers_and_operators()\n",
        "\n",
        "so you can append the inputs in order of number operation and alternate with that same pattern\n",
        "\n",
        "make_list_long_enough()\n"
      ],
      "metadata": {
        "id": "V-Qp8ZbNEJKP"
      }
    },
    {
      "cell_type": "code",
      "source": [
        "#intializes interpereted_list so there are no errors if the function were to not work\n",
        "#make the voices go away, don't yell at me\n",
        "\n",
        "\n",
        "def make_list_long_enough(number_of_operators):\n",
        "  list_of_empty_strings = ['']\n",
        "\n",
        "  for chi in range(number_of_operators):\n",
        "    list_of_empty_strings.append('')\n",
        "    list_of_empty_strings.append('')\n",
        "  return list_of_empty_strings\n",
        "\n",
        "\n",
        "\n"
      ],
      "metadata": {
        "id": "5sNvYGnbUWsP"
      },
      "execution_count": 76,
      "outputs": []
    },
    {
      "cell_type": "markdown",
      "source": [
        "remove these because making the list long enough is more straightforeward\n",
        "\n"
      ],
      "metadata": {
        "id": "xvbcrE8WCUb5"
      }
    },
    {
      "cell_type": "markdown",
      "source": [
        "it works well enough, i might change above buttons to just show result. and then change output to above_buttons"
      ],
      "metadata": {
        "id": "GDrgNqcLHrHj"
      }
    },
    {
      "cell_type": "code",
      "source": [
        "def above_buttons_show_result(typed_in_list, calculation_result):\n",
        "  with output:\n",
        "    output.clear_output()\n",
        "    display(typed_in_list, calculation_result)"
      ],
      "metadata": {
        "id": "Q6tl4y6-o4kF"
      },
      "execution_count": 77,
      "outputs": []
    },
    {
      "cell_type": "markdown",
      "source": [
        "this is a hence abandoned attempt, remove it"
      ],
      "metadata": {
        "id": "o7U61q9JIXm7"
      }
    },
    {
      "cell_type": "markdown",
      "source": [
        "handle_would_be_errors_of_not_numbers(check_list)\n",
        "\n",
        "this could be handled better than try except, \n",
        "\n",
        "that besides\n",
        "\n",
        "it does not \n",
        "\n",
        "check the locations numbers should be to make sure they are numbers. as a result it can be used to counteract no number in any  necessary spot by telling the and if paired with an output to tell the user that they need to unput a proper number\n",
        "\n",
        "there's a method of parsing, regex  would allow wme to check if there is a number in a correctly formatted thing hmmmm.\n",
        "\n",
        "check if list has numbers in correct places\n",
        "\n",
        "instead, makes numbers formatted correctly"
      ],
      "metadata": {
        "id": "W6uh5ky6If8C"
      }
    },
    {
      "cell_type": "code",
      "source": [
        "def check_number_formatted_for_backend(check_list):\n",
        "  # first check that everything is in number operator alternating order\n",
        "  # if check_list is started, ended by something other than a number\n",
        "  # if any of the alternating should be numbers are not numbers(index(0,:,2))\n",
        "  # if len(check_list) <= 2:\n",
        "  for supposed_number in check_list[0::2]:\n",
        "    try:\n",
        "      float(supposed_number)\n",
        "    except ValueError:\n",
        "      return False\n",
        "  return True\n",
        "  # then handle if there is only one number\n"
      ],
      "metadata": {
        "id": "hP3CSLCrGeJt"
      },
      "execution_count": 78,
      "outputs": []
    },
    {
      "cell_type": "markdown",
      "source": [
        "this is a separate function that  makes sure that the backend list  handles a single number with no operation\n",
        "\n",
        "in effect this is my order of operations logi"
      ],
      "metadata": {
        "id": "1UVzoauNLfex"
      }
    },
    {
      "cell_type": "code",
      "source": [
        "def apply_order_of_operations(copy_interpereted_list): #this is to say, none\n",
        "  # if only a number was passed through returns that to be the answer\n",
        "  if len(copy_interpereted_list) == 1:\n",
        "    return float(copy_interpereted_list[0])\n",
        "  # calculate_left_to_right is as the name suggests\n",
        "  else:\n",
        "    return calculate_left_to_right(copy_interpereted_list)"
      ],
      "metadata": {
        "id": "nNTSLucDLevu"
      },
      "execution_count": 79,
      "outputs": []
    },
    {
      "cell_type": "code",
      "source": [
        "def equate(inputed_list):\n",
        "  computer_interoperable_list = make_interpereted_list(inputed_list)\n",
        "\n",
        "  if check_number_formatted_for_backend(computer_interoperable_list) is True:\n",
        "    result = apply_order_of_operations(computer_interoperable_list)\n",
        "    if isinstance(result, float):\n",
        "      if result%1 == 0:\n",
        "        result = int(result)\n",
        "  elif check_number_formatted_for_backend(computer_interoperable_list) is False: \n",
        "    result = 'format your numbers properly please'\n",
        "\n",
        "  above_buttons_show_result(computer_interoperable_list, result)\n",
        "  return result"
      ],
      "metadata": {
        "id": "LTuLwX6tzbu3"
      },
      "execution_count": 80,
      "outputs": []
    },
    {
      "cell_type": "code",
      "source": [
        "def make_interpereted_list(copy_master):\n",
        "  the4 = ['+', '-', '*', '/']\n",
        "  how_many_operators = count_operators(copy_master)\n",
        "  backend_list = make_list_long_enough(how_many_operators)\n",
        "\n",
        "  # loop over the list from user inputs\n",
        "  # and write it so this program can understand it\n",
        "  qr = 0\n",
        "  display(copy_master, 'sdfghjkm,zlh')\n",
        "  for x in copy_master:\n",
        "    if x in str([1, 2, 3, 4, 5, 6, 7, 8, 9, 0]) :\n",
        "      x = int(x)\n",
        "    if isinstance(x, int):\n",
        "      backend_list[qr] = backend_list[qr] + (str(x))\n",
        "    # decimals\n",
        "    elif x is '.':\n",
        "      backend_list[qr] = backend_list[qr] + (str(x))\n",
        "    # negative numbers\n",
        "    elif x is \"m\":\n",
        "      backend_list[qr] = '-'\n",
        "\n",
        "    # if the next part of the input is an operation puts that as the \n",
        "    # next operation and moves on to the next number\n",
        "    # an operations function which houses and returns a dictionary \n",
        "    # instead of the4 would be great, not what I've time for now\n",
        "    if x in the4:\n",
        "      qr += 1\n",
        "      backend_list[qr] = x\n",
        "      qr += 1\n",
        "  \n",
        "  return backend_list\n",
        "\n",
        "\n"
      ],
      "metadata": {
        "id": "uDJFD0pLBn3H"
      },
      "execution_count": 81,
      "outputs": []
    },
    {
      "cell_type": "markdown",
      "source": [
        "calculation()\n",
        "\n",
        "run_one_operation()\n",
        "\n",
        "to run operation because it is simpler in reading\n",
        "\n",
        "run_operation()"
      ],
      "metadata": {
        "id": "gVFmOroCUVkb"
      }
    },
    {
      "cell_type": "markdown",
      "source": [],
      "metadata": {
        "id": "NVT-Vg_cUVbT"
      }
    },
    {
      "cell_type": "code",
      "source": [
        "#called when looping to do calculations over a safe list\n",
        "def run_operation(first_number, operation_string, second_number):\n",
        "  first_number = float(first_number)\n",
        "  second_number = float(second_number)\n",
        "  if operation_string == \"+\" : calculation_output = first_number + second_number\n",
        "  if operation_string == \"-\" : calculation_output = first_number - second_number\n",
        "  if operation_string == \"*\" : calculation_output = first_number * second_number\n",
        "  if operation_string == \"/\" and second_number != 0 : \n",
        "    calculation_output = first_number / second_number\n",
        "  elif operation_string == \"/\" and second_number == 0 : \n",
        "    calculation_output = 'undefined'\n",
        "\n",
        "  return calculation_output\n"
      ],
      "metadata": {
        "id": "bZPaHIefM5kO"
      },
      "execution_count": 82,
      "outputs": []
    },
    {
      "cell_type": "markdown",
      "source": [
        "left_to_right_calcualtions_no_order_of_operations\n",
        "\n",
        "shorten it\n",
        "\n",
        "calculate_left_to_right()\n",
        "\n",
        "divide into get numbers from list\n",
        "\n",
        "and\n",
        "\n",
        "loop over list"
      ],
      "metadata": {
        "id": "W69Nyo4yQnEV"
      }
    },
    {
      "cell_type": "code",
      "source": [
        "##should loop over a list and operate left to right every given number \n",
        "# and operation\n",
        "def calculate_left_to_right(placeholder_interpereted_list):\n",
        "\n",
        "  name = placeholder_interpereted_list\n",
        "  last_operator_location = len(name) - name[::-1].index(name[-1]) - 1\n",
        "\n",
        "# doesn't need numpy, there's a way to use ennumerate and [0], [1::2] I think\n",
        "  import numpy as np\n",
        "  track_operator_list = np.arange(1,last_operator_location, 2)\n",
        "\n",
        "  # run calculation for each operator left to right\n",
        "  for x in track_operator_list:\n",
        "    if x == 1:\n",
        "      equals = run_operation(name[x - 1], name[x], name[x + 1])\n",
        "    else:\n",
        "      equals = run_operation(equals, name[x], name[x + 1])\n",
        "  return equals\n"
      ],
      "metadata": {
        "id": "cu9DTNbUxdoZ"
      },
      "execution_count": 83,
      "outputs": []
    },
    {
      "cell_type": "code",
      "source": [
        "' useless code since I have a function for this' \n",
        "# calculator_result\n",
        "#   with output:\n",
        "#     print(equals)\n"
      ],
      "metadata": {
        "id": "Y_Ct4DzaVi5D",
        "outputId": "e06826fd-2d7a-4ba8-9796-dfca1c8dfb57",
        "colab": {
          "base_uri": "https://localhost:8080/",
          "height": 35
        }
      },
      "execution_count": 84,
      "outputs": [
        {
          "output_type": "execute_result",
          "data": {
            "text/plain": [
              "' useless code since I have a function for this'"
            ],
            "application/vnd.google.colaboratory.intrinsic+json": {
              "type": "string"
            }
          },
          "metadata": {},
          "execution_count": 84
        }
      ]
    },
    {
      "cell_type": "markdown",
      "source": [
        "#user interface"
      ],
      "metadata": {
        "id": "sUaqqXPKAreG"
      }
    },
    {
      "cell_type": "code",
      "source": [
        "import ipywidgets as widgets\n",
        "from IPython.display import display\n",
        "output = widgets.Output()\n",
        "master_list = ['1']\n",
        "above_buttons_show_result(make_interpereted_list(master_list), '')\n",
        "display(output, grid)"
      ],
      "metadata": {
        "id": "UF4KfYNIUWME",
        "outputId": "aaab971f-2f17-4cd7-94a4-06767e78d0aa",
        "colab": {
          "base_uri": "https://localhost:8080/",
          "height": 1000,
          "referenced_widgets": [
            "9aa7a8e589ae4e8088cecc095a67511b",
            "4cb5fce5b0114c7c8f5942c90cdcf014",
            "5560c41f2bd74a24b2e48de34d91d563",
            "47aac928712349e0a90a0d1b1f3bf741",
            "f1623f4a588043d68e013f5bfcbe7b7f",
            "9b4ed912ca1a4a1c9e65ed2e38509a44",
            "691a0df812784ba1960a4f5fbe295915",
            "e4799f2b05964d078cdfd64bcc43d13b",
            "a30a190071c64cec8433b9957336e573",
            "50e44a1a5d4e4cb8996dd57b0c135b47",
            "3647c2290afb40f9863b04a273664d94",
            "9064ae317f9a40b7921e2f8e7962d8b9",
            "03d00b7879b049e7a92d9a4e08fa1e5c",
            "52593d41528c4def89dcddb8e26a8e6a",
            "5670228f7c654efc880461ce27d7eb68",
            "e5866549760e4ca58ff8b09c83d3e4c7",
            "5eb7a4f0be184ca38463d21a9a9ce299",
            "9a2af0688218447fbb40c9470846bad9",
            "aabc9bee3d5c4e5c9cad2b9ce13be43f",
            "6841a4d4b24b4f378f145dba711bbaf9",
            "83930b7b9f5d455fa0ff2916ae47a090",
            "bc6f2f3418364cfba515992c145c7702",
            "195d8f0c592041499116f9108a3560e8",
            "088ad6b111874b52ad0de00de593911d",
            "ca58252f11444e268408e087387600ac",
            "62cfdda95eac48cf952c486414750543",
            "6e14a3f920114869bdbc1633f70f684d",
            "34c7597c09504adaa74df0ab62b51e68",
            "12cc00df312c479a86ed3d9d00516f3e",
            "c596d1a63bbf4b64bb4bdf604df0418e",
            "6e291573be2c436593c73c873284bf45",
            "708b6cea59ee4e998011b62ebb536c4e",
            "35b5d7a1e25b425b80893912264d7d2c",
            "c9c586edf13640139c405b43dfc8dc21",
            "f99fb503d55042ac8fdc5f8493cd0367",
            "cc14ccc987d54f59aefcf199a1656168",
            "7a2e282325a640f782dd42d5c2745016",
            "7b5e000f4e3a4b019de4e4e8ec7c6833",
            "52929e6f4cb946d8a40b271c2412ee36",
            "5561b8fa3a7c4dea9ee85238a0794a18",
            "8d8a50fc01504834a88a545ac67335cc",
            "dcebfc5cbb684b2f96939f5eefbab260",
            "c63fb95d2aa14241a9a4085e398d3e43",
            "80645e46334b4fdcaad0791c70f507a1",
            "f3616b169d7b47f88cd8e4f8b49a215e",
            "2737d35fa8d848d1aa243d6a792b0948",
            "066acbd7e7914706ad512857540b8149",
            "dbb3e0ed442d452f96180707267ff2e2",
            "c3b0216203924a49950d59f99a543887",
            "037967d5038d4a56b82812441fe50e24",
            "e50f3a02b60c47d6a5baabe0740638e8",
            "884186306d404b76aa93b1cbd660e711",
            "edc6b3ec76a74320bf8dc90825cfbfc0",
            "96fdb5797c6444c7a933f8e0f298f298",
            "61547bf20b1448d7a276a555c4e2e876",
            "1af7fa9fe7584f78b59ddcfe235b7036",
            "95cac6cd2625476b80b886c8b9fa72ac",
            "258661a864ef42a1a28e3f469331539e",
            "e434040c8c56438d920a6ac3b95e2b54",
            "a5819465610f48a3b0ec58a83bfdc263",
            "76b9c9bd449a4f0c962bd3e37490b437",
            "d51407ad5a5f470f850f9a654507ca44",
            "d5ebc6463e664be0ad1532e8440c91bf",
            "f0be6663b26343a7a0e1ce09e10e068e"
          ]
        }
      },
      "execution_count": 131,
      "outputs": [
        {
          "output_type": "display_data",
          "data": {
            "text/plain": [
              "['1']"
            ]
          },
          "metadata": {}
        },
        {
          "output_type": "display_data",
          "data": {
            "text/plain": [
              "'sdfghjkm,zlh'"
            ],
            "application/vnd.google.colaboratory.intrinsic+json": {
              "type": "string"
            }
          },
          "metadata": {}
        },
        {
          "output_type": "display_data",
          "data": {
            "text/plain": [
              "Output()"
            ],
            "application/vnd.jupyter.widget-view+json": {
              "version_major": 2,
              "version_minor": 0,
              "model_id": "9aa7a8e589ae4e8088cecc095a67511b"
            }
          },
          "metadata": {}
        },
        {
          "output_type": "display_data",
          "data": {
            "text/plain": [
              "GridspecLayout(children=(Button(description='1', layout=Layout(grid_area='widget001', height='auto', width='au…"
            ],
            "application/vnd.jupyter.widget-view+json": {
              "version_major": 2,
              "version_minor": 0,
              "model_id": "5560c41f2bd74a24b2e48de34d91d563"
            }
          },
          "metadata": {}
        },
        {
          "output_type": "display_data",
          "data": {
            "text/plain": [
              "['1']"
            ]
          },
          "metadata": {}
        },
        {
          "output_type": "display_data",
          "data": {
            "text/plain": [
              "'test'"
            ],
            "application/vnd.google.colaboratory.intrinsic+json": {
              "type": "string"
            }
          },
          "metadata": {}
        },
        {
          "output_type": "display_data",
          "data": {
            "text/plain": [
              "['1']"
            ]
          },
          "metadata": {}
        },
        {
          "output_type": "display_data",
          "data": {
            "text/plain": [
              "'test oddity'"
            ],
            "application/vnd.google.colaboratory.intrinsic+json": {
              "type": "string"
            }
          },
          "metadata": {}
        },
        {
          "output_type": "display_data",
          "data": {
            "text/plain": [
              "None"
            ]
          },
          "metadata": {}
        },
        {
          "output_type": "display_data",
          "data": {
            "text/plain": [
              "'sdfghjkm,zlh'"
            ],
            "application/vnd.google.colaboratory.intrinsic+json": {
              "type": "string"
            }
          },
          "metadata": {}
        },
        {
          "output_type": "error",
          "ename": "TypeError",
          "evalue": "ignored",
          "traceback": [
            "\u001b[0;31m---------------------------------------------------------------------------\u001b[0m",
            "\u001b[0;31mTypeError\u001b[0m                                 Traceback (most recent call last)",
            "\u001b[0;32m<ipython-input-61-3675eea7cd1d>\u001b[0m in \u001b[0;36mwrite_to_master_list\u001b[0;34m(button_pressed)\u001b[0m\n\u001b[1;32m     52\u001b[0m     \u001b[0;31m#or should it be handled in the backend that it just doesn't throw an error\u001b[0m\u001b[0;34m\u001b[0m\u001b[0;34m\u001b[0m\u001b[0;34m\u001b[0m\u001b[0m\n\u001b[1;32m     53\u001b[0m \u001b[0;34m\u001b[0m\u001b[0m\n\u001b[0;32m---> 54\u001b[0;31m   \u001b[0mshow_on_screen_as_clicking\u001b[0m \u001b[0;34m=\u001b[0m \u001b[0mmake_interpereted_list\u001b[0m\u001b[0;34m(\u001b[0m\u001b[0mmaster_list\u001b[0m\u001b[0;34m)\u001b[0m\u001b[0;34m\u001b[0m\u001b[0;34m\u001b[0m\u001b[0m\n\u001b[0m\u001b[1;32m     55\u001b[0m   \u001b[0mabove_buttons_show_result\u001b[0m\u001b[0;34m(\u001b[0m\u001b[0mshow_on_screen_as_clicking\u001b[0m\u001b[0;34m,\u001b[0m \u001b[0;34m''\u001b[0m\u001b[0;34m)\u001b[0m\u001b[0;34m\u001b[0m\u001b[0;34m\u001b[0m\u001b[0m\n\u001b[1;32m     56\u001b[0m \u001b[0;34m\u001b[0m\u001b[0m\n",
            "\u001b[0;32m<ipython-input-81-17f55998e6a3>\u001b[0m in \u001b[0;36mmake_interpereted_list\u001b[0;34m(copy_master)\u001b[0m\n\u001b[1;32m      8\u001b[0m   \u001b[0mqr\u001b[0m \u001b[0;34m=\u001b[0m \u001b[0;36m0\u001b[0m\u001b[0;34m\u001b[0m\u001b[0;34m\u001b[0m\u001b[0m\n\u001b[1;32m      9\u001b[0m   \u001b[0mdisplay\u001b[0m\u001b[0;34m(\u001b[0m\u001b[0mcopy_master\u001b[0m\u001b[0;34m,\u001b[0m \u001b[0;34m'sdfghjkm,zlh'\u001b[0m\u001b[0;34m)\u001b[0m\u001b[0;34m\u001b[0m\u001b[0;34m\u001b[0m\u001b[0m\n\u001b[0;32m---> 10\u001b[0;31m   \u001b[0;32mfor\u001b[0m \u001b[0mx\u001b[0m \u001b[0;32min\u001b[0m \u001b[0mcopy_master\u001b[0m\u001b[0;34m:\u001b[0m\u001b[0;34m\u001b[0m\u001b[0;34m\u001b[0m\u001b[0m\n\u001b[0m\u001b[1;32m     11\u001b[0m     \u001b[0;32mif\u001b[0m \u001b[0mx\u001b[0m \u001b[0;32min\u001b[0m \u001b[0mstr\u001b[0m\u001b[0;34m(\u001b[0m\u001b[0;34m[\u001b[0m\u001b[0;36m1\u001b[0m\u001b[0;34m,\u001b[0m \u001b[0;36m2\u001b[0m\u001b[0;34m,\u001b[0m \u001b[0;36m3\u001b[0m\u001b[0;34m,\u001b[0m \u001b[0;36m4\u001b[0m\u001b[0;34m,\u001b[0m \u001b[0;36m5\u001b[0m\u001b[0;34m,\u001b[0m \u001b[0;36m6\u001b[0m\u001b[0;34m,\u001b[0m \u001b[0;36m7\u001b[0m\u001b[0;34m,\u001b[0m \u001b[0;36m8\u001b[0m\u001b[0;34m,\u001b[0m \u001b[0;36m9\u001b[0m\u001b[0;34m,\u001b[0m \u001b[0;36m0\u001b[0m\u001b[0;34m]\u001b[0m\u001b[0;34m)\u001b[0m \u001b[0;34m:\u001b[0m\u001b[0;34m\u001b[0m\u001b[0;34m\u001b[0m\u001b[0m\n\u001b[1;32m     12\u001b[0m       \u001b[0mx\u001b[0m \u001b[0;34m=\u001b[0m \u001b[0mint\u001b[0m\u001b[0;34m(\u001b[0m\u001b[0mx\u001b[0m\u001b[0;34m)\u001b[0m\u001b[0;34m\u001b[0m\u001b[0;34m\u001b[0m\u001b[0m\n",
            "\u001b[0;31mTypeError\u001b[0m: 'NoneType' object is not iterable"
          ]
        },
        {
          "output_type": "display_data",
          "data": {
            "text/plain": [
              "['m']"
            ]
          },
          "metadata": {}
        },
        {
          "output_type": "display_data",
          "data": {
            "text/plain": [
              "'test'"
            ],
            "application/vnd.google.colaboratory.intrinsic+json": {
              "type": "string"
            }
          },
          "metadata": {}
        },
        {
          "output_type": "display_data",
          "data": {
            "text/plain": [
              "['m']"
            ]
          },
          "metadata": {}
        },
        {
          "output_type": "display_data",
          "data": {
            "text/plain": [
              "'test oddity'"
            ],
            "application/vnd.google.colaboratory.intrinsic+json": {
              "type": "string"
            }
          },
          "metadata": {}
        },
        {
          "output_type": "display_data",
          "data": {
            "text/plain": [
              "[]"
            ]
          },
          "metadata": {}
        },
        {
          "output_type": "display_data",
          "data": {
            "text/plain": [
              "'sdfghjkm,zlh'"
            ],
            "application/vnd.google.colaboratory.intrinsic+json": {
              "type": "string"
            }
          },
          "metadata": {}
        },
        {
          "output_type": "display_data",
          "data": {
            "text/plain": [
              "['8']"
            ]
          },
          "metadata": {}
        },
        {
          "output_type": "display_data",
          "data": {
            "text/plain": [
              "'sdfghjkm,zlh'"
            ],
            "application/vnd.google.colaboratory.intrinsic+json": {
              "type": "string"
            }
          },
          "metadata": {}
        },
        {
          "output_type": "display_data",
          "data": {
            "text/plain": [
              "['8']"
            ]
          },
          "metadata": {}
        },
        {
          "output_type": "display_data",
          "data": {
            "text/plain": [
              "'test'"
            ],
            "application/vnd.google.colaboratory.intrinsic+json": {
              "type": "string"
            }
          },
          "metadata": {}
        },
        {
          "output_type": "display_data",
          "data": {
            "text/plain": [
              "['8']"
            ]
          },
          "metadata": {}
        },
        {
          "output_type": "display_data",
          "data": {
            "text/plain": [
              "'test oddity'"
            ],
            "application/vnd.google.colaboratory.intrinsic+json": {
              "type": "string"
            }
          },
          "metadata": {}
        },
        {
          "output_type": "display_data",
          "data": {
            "text/plain": [
              "None"
            ]
          },
          "metadata": {}
        },
        {
          "output_type": "display_data",
          "data": {
            "text/plain": [
              "'sdfghjkm,zlh'"
            ],
            "application/vnd.google.colaboratory.intrinsic+json": {
              "type": "string"
            }
          },
          "metadata": {}
        },
        {
          "output_type": "error",
          "ename": "TypeError",
          "evalue": "ignored",
          "traceback": [
            "\u001b[0;31m---------------------------------------------------------------------------\u001b[0m",
            "\u001b[0;31mTypeError\u001b[0m                                 Traceback (most recent call last)",
            "\u001b[0;32m<ipython-input-61-3675eea7cd1d>\u001b[0m in \u001b[0;36mwrite_to_master_list\u001b[0;34m(button_pressed)\u001b[0m\n\u001b[1;32m     52\u001b[0m     \u001b[0;31m#or should it be handled in the backend that it just doesn't throw an error\u001b[0m\u001b[0;34m\u001b[0m\u001b[0;34m\u001b[0m\u001b[0;34m\u001b[0m\u001b[0m\n\u001b[1;32m     53\u001b[0m \u001b[0;34m\u001b[0m\u001b[0m\n\u001b[0;32m---> 54\u001b[0;31m   \u001b[0mshow_on_screen_as_clicking\u001b[0m \u001b[0;34m=\u001b[0m \u001b[0mmake_interpereted_list\u001b[0m\u001b[0;34m(\u001b[0m\u001b[0mmaster_list\u001b[0m\u001b[0;34m)\u001b[0m\u001b[0;34m\u001b[0m\u001b[0;34m\u001b[0m\u001b[0m\n\u001b[0m\u001b[1;32m     55\u001b[0m   \u001b[0mabove_buttons_show_result\u001b[0m\u001b[0;34m(\u001b[0m\u001b[0mshow_on_screen_as_clicking\u001b[0m\u001b[0;34m,\u001b[0m \u001b[0;34m''\u001b[0m\u001b[0;34m)\u001b[0m\u001b[0;34m\u001b[0m\u001b[0;34m\u001b[0m\u001b[0m\n\u001b[1;32m     56\u001b[0m \u001b[0;34m\u001b[0m\u001b[0m\n",
            "\u001b[0;32m<ipython-input-81-17f55998e6a3>\u001b[0m in \u001b[0;36mmake_interpereted_list\u001b[0;34m(copy_master)\u001b[0m\n\u001b[1;32m      8\u001b[0m   \u001b[0mqr\u001b[0m \u001b[0;34m=\u001b[0m \u001b[0;36m0\u001b[0m\u001b[0;34m\u001b[0m\u001b[0;34m\u001b[0m\u001b[0m\n\u001b[1;32m      9\u001b[0m   \u001b[0mdisplay\u001b[0m\u001b[0;34m(\u001b[0m\u001b[0mcopy_master\u001b[0m\u001b[0;34m,\u001b[0m \u001b[0;34m'sdfghjkm,zlh'\u001b[0m\u001b[0;34m)\u001b[0m\u001b[0;34m\u001b[0m\u001b[0;34m\u001b[0m\u001b[0m\n\u001b[0;32m---> 10\u001b[0;31m   \u001b[0;32mfor\u001b[0m \u001b[0mx\u001b[0m \u001b[0;32min\u001b[0m \u001b[0mcopy_master\u001b[0m\u001b[0;34m:\u001b[0m\u001b[0;34m\u001b[0m\u001b[0;34m\u001b[0m\u001b[0m\n\u001b[0m\u001b[1;32m     11\u001b[0m     \u001b[0;32mif\u001b[0m \u001b[0mx\u001b[0m \u001b[0;32min\u001b[0m \u001b[0mstr\u001b[0m\u001b[0;34m(\u001b[0m\u001b[0;34m[\u001b[0m\u001b[0;36m1\u001b[0m\u001b[0;34m,\u001b[0m \u001b[0;36m2\u001b[0m\u001b[0;34m,\u001b[0m \u001b[0;36m3\u001b[0m\u001b[0;34m,\u001b[0m \u001b[0;36m4\u001b[0m\u001b[0;34m,\u001b[0m \u001b[0;36m5\u001b[0m\u001b[0;34m,\u001b[0m \u001b[0;36m6\u001b[0m\u001b[0;34m,\u001b[0m \u001b[0;36m7\u001b[0m\u001b[0;34m,\u001b[0m \u001b[0;36m8\u001b[0m\u001b[0;34m,\u001b[0m \u001b[0;36m9\u001b[0m\u001b[0;34m,\u001b[0m \u001b[0;36m0\u001b[0m\u001b[0;34m]\u001b[0m\u001b[0;34m)\u001b[0m \u001b[0;34m:\u001b[0m\u001b[0;34m\u001b[0m\u001b[0;34m\u001b[0m\u001b[0m\n\u001b[1;32m     12\u001b[0m       \u001b[0mx\u001b[0m \u001b[0;34m=\u001b[0m \u001b[0mint\u001b[0m\u001b[0;34m(\u001b[0m\u001b[0mx\u001b[0m\u001b[0;34m)\u001b[0m\u001b[0;34m\u001b[0m\u001b[0;34m\u001b[0m\u001b[0m\n",
            "\u001b[0;31mTypeError\u001b[0m: 'NoneType' object is not iterable"
          ]
        }
      ]
    }
  ]
}