{
  "nbformat": 4,
  "nbformat_minor": 0,
  "metadata": {
    "colab": {
      "provenance": [],
      "collapsed_sections": [],
      "authorship_tag": "ABX9TyMFPcmbnlng/kLUaD0arHT8",
      "include_colab_link": true
    },
    "kernelspec": {
      "name": "python3",
      "display_name": "Python 3"
    },
    "language_info": {
      "name": "python"
    }
  },
  "cells": [
    {
      "cell_type": "markdown",
      "metadata": {
        "id": "view-in-github",
        "colab_type": "text"
      },
      "source": [
        "<a href=\"https://colab.research.google.com/github/N0b0dy000/calculator-worksish/blob/fix-globals/using_functools_to_pass_variables_into_a_function_from_a_button.ipynb\" target=\"_parent\"><img src=\"https://colab.research.google.com/assets/colab-badge.svg\" alt=\"Open In Colab\"/></a>"
      ]
    },
    {
      "cell_type": "markdown",
      "source": [
        "This does not work yet; it is a proof of concept.\n",
        "\n",
        "Here's the link I got the information from\n",
        "\n",
        "https://github.com/jupyter-widgets/ipywidgets/issues/2103"
      ],
      "metadata": {
        "id": "02qJ71c577Bm"
      }
    },
    {
      "cell_type": "code",
      "source": [
        "# from traitlets.utils.descriptions import describe\n",
        "#when a button is clicked it should be added to the list\n",
        "\n",
        "## extracts button press's \n",
        "\n",
        "\n",
        "#write to the master list that gets sent to the backend. \n",
        "\n",
        "master_list = list([])\n",
        "previous_answer = ''\n",
        "\n",
        "#handles what you can and cannot input\n",
        "def on_button_clicked(b, a_test_variable):\n",
        "  global master_list \n",
        "  global previous_answer\n",
        "  #  = make_interpereted_list(master_list)\n",
        "\n",
        "# is supposed to handle the positive or negative value of the input number \n",
        "  if b.description == \"+/-\" : \n",
        "    \n",
        "    # master_list = flip_positive_negative(master_list)\n",
        "    master_list = flip_positive_negative(master_list)\n",
        "\n",
        "      \n",
        "\n",
        "  if b.description in str([1, 2, 3, 4, 5, 6, 7, 8, 9, 0]): master_list.append(b.description)\n",
        "  elif b.description == \"clear\" : master_list = []\n",
        "  elif b.description == \"back\" : master_list = master_list[0:-1]\n",
        "  elif b.description == \"=\" : pass\n",
        "\n",
        "  elif b.description == \".\" : \n",
        "    if check_for_decimals(make_interpereted_list(master_list)[-1]) == \"fine\" : \n",
        "      master_list.append(b.description) # decimal time\n",
        "\n",
        "  elif b.description == \"ANSWER\" : \n",
        "    if check_for_decimals(previous_answer) == \"problem\":\n",
        "      if check_for_decimals(make_interpereted_list(master_list)[-1]) == \"fine\" : \n",
        "      # i know this will cause problems with the decimals\n",
        "        for swer in list(str(previous_answer)):\n",
        "          if swer == '-' : swer = 'm'\n",
        "          master_list.append(swer)\n",
        "    elif check_for_decimals(previous_answer) == \"fine\":\n",
        "        for swer in list(str(previous_answer)):\n",
        "          if swer == '-' : swer = 'm'\n",
        "          master_list.append(swer)\n",
        "    elif previous_answer == 'format your numbers properly please' : pass\n",
        "\n",
        "\n",
        "  elif b.description in ['+', '-', '*', '/'] : \n",
        "    if master_list[-1] in ['+', '-', '*', '/']: master_list[-1] = b.description\n",
        "    else: master_list.append(b.description)\n",
        "    #make it impossible to move on from  negative or decimal without a number\n",
        "    #or should it be handled in the backend that it just doesn't throw an error\n",
        "\n",
        "  show_on_screen_as_clicking = make_interpereted_list(master_list)\n",
        "  above_buttons_show_result(show_on_screen_as_clicking, '')\n",
        "\n",
        "  if b.description == '=' : \n",
        "    if master_list[-1] in ['+', '-', '*', '/']:\n",
        "      pass\n",
        "    else:\n",
        "      previous_answer = equate(master_list)\n",
        "\n",
        "\n",
        "  with output:print(a_test_variable)\n",
        "  return(master_list)\n"
      ],
      "metadata": {
        "id": "S8qILRGiS35i"
      },
      "execution_count": null,
      "outputs": []
    },
    {
      "cell_type": "code",
      "source": [
        "#tuples for each spot on the grid which has a button\n",
        "\n",
        "def assign_button_clicks_appropriately():\n",
        "  import functools\n",
        "  for hy in range(grid_down):\n",
        "    for kn in range(grid_across): \n",
        "      grid[hy, kn].on_click(functools.partial(on_button_clicked, a_test_variable = 100))\n",
        "assign_button_clicks_appropriately()\n",
        "# for this project, I have determined that having globals is fine\n",
        "# if you need to not use the globals master_list or previous_answer\n",
        "# this may help. as is it replaces the button, not important for now\n",
        "# button.on_clicked(functools.partial(on_button_clicked, rs_=\"abcdefg\"))                  "
      ],
      "metadata": {
        "id": "0HCHlSV_FGx_"
      },
      "execution_count": null,
      "outputs": []
    },
    {
      "cell_type": "code",
      "source": [
        "display(output, grid[0,0])"
      ],
      "metadata": {
        "colab": {
          "base_uri": "https://localhost:8080/",
          "height": 70,
          "referenced_widgets": [
            "ae7af532701f4484a02691b742b82e1f",
            "a4d8f867dfaa4ffa98d3bde39ce6b395",
            "262d16a97b9c4472aeede08cc8c62384",
            "17a2548379304c048caf4db81fc694d2"
          ]
        },
        "id": "5ulFPfZI62R7",
        "outputId": "fc2ef329-8ad4-48f6-cc4f-11fa47e366b2"
      },
      "execution_count": null,
      "outputs": [
        {
          "output_type": "display_data",
          "data": {
            "text/plain": [
              "['1111']"
            ]
          },
          "metadata": {}
        },
        {
          "output_type": "display_data",
          "data": {
            "text/plain": [
              "''"
            ],
            "application/vnd.google.colaboratory.intrinsic+json": {
              "type": "string"
            }
          },
          "metadata": {}
        },
        {
          "output_type": "stream",
          "name": "stdout",
          "text": [
            "100\n"
          ]
        }
      ]
    }
  ]
}